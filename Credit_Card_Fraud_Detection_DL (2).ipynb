{
 "cells": [
  {
   "cell_type": "markdown",
   "metadata": {
    "id": "jMH2OhxF8iwV"
   },
   "source": [
    "It is important that credit card companies are able to recognize fraudulent credit card transactions so that customers are not \n",
    "charged for items that they did not purchase."
   ]
  },
  {
   "cell_type": "code",
   "execution_count": null,
   "metadata": {
    "id": "cnbc78jy33cM"
   },
   "outputs": [],
   "source": [
    "import numpy as np\n",
    "import pandas as pd\n",
    "import matplotlib.pyplot as plt\n",
    "import seaborn as sns\n",
    "import warnings\n",
    "warnings.filterwarnings('ignore')\n"
   ]
  },
  {
   "cell_type": "code",
   "execution_count": null,
   "metadata": {
    "colab": {
     "base_uri": "https://localhost:8080/",
     "height": 236
    },
    "id": "b8Oy7oBbrzB1",
    "outputId": "587db0f7-49e4-4448-8825-306a889e1d12"
   },
   "outputs": [
    {
     "data": {
      "text/html": [
       "\n",
       "  <div id=\"df-7969a83f-e1be-4311-8ff3-969cfa197e07\">\n",
       "    <div class=\"colab-df-container\">\n",
       "      <div>\n",
       "<style scoped>\n",
       "    .dataframe tbody tr th:only-of-type {\n",
       "        vertical-align: middle;\n",
       "    }\n",
       "\n",
       "    .dataframe tbody tr th {\n",
       "        vertical-align: top;\n",
       "    }\n",
       "\n",
       "    .dataframe thead th {\n",
       "        text-align: right;\n",
       "    }\n",
       "</style>\n",
       "<table border=\"1\" class=\"dataframe\">\n",
       "  <thead>\n",
       "    <tr style=\"text-align: right;\">\n",
       "      <th></th>\n",
       "      <th>Time</th>\n",
       "      <th>V1</th>\n",
       "      <th>V2</th>\n",
       "      <th>V3</th>\n",
       "      <th>V4</th>\n",
       "      <th>V5</th>\n",
       "      <th>V6</th>\n",
       "      <th>V7</th>\n",
       "      <th>V8</th>\n",
       "      <th>V9</th>\n",
       "      <th>...</th>\n",
       "      <th>V21</th>\n",
       "      <th>V22</th>\n",
       "      <th>V23</th>\n",
       "      <th>V24</th>\n",
       "      <th>V25</th>\n",
       "      <th>V26</th>\n",
       "      <th>V27</th>\n",
       "      <th>V28</th>\n",
       "      <th>Amount</th>\n",
       "      <th>Class</th>\n",
       "    </tr>\n",
       "  </thead>\n",
       "  <tbody>\n",
       "    <tr>\n",
       "      <th>0</th>\n",
       "      <td>0.0</td>\n",
       "      <td>-1.359807</td>\n",
       "      <td>-0.072781</td>\n",
       "      <td>2.536347</td>\n",
       "      <td>1.378155</td>\n",
       "      <td>-0.338321</td>\n",
       "      <td>0.462388</td>\n",
       "      <td>0.239599</td>\n",
       "      <td>0.098698</td>\n",
       "      <td>0.363787</td>\n",
       "      <td>...</td>\n",
       "      <td>-0.018307</td>\n",
       "      <td>0.277838</td>\n",
       "      <td>-0.110474</td>\n",
       "      <td>0.066928</td>\n",
       "      <td>0.128539</td>\n",
       "      <td>-0.189115</td>\n",
       "      <td>0.133558</td>\n",
       "      <td>-0.021053</td>\n",
       "      <td>149.62</td>\n",
       "      <td>0</td>\n",
       "    </tr>\n",
       "    <tr>\n",
       "      <th>1</th>\n",
       "      <td>0.0</td>\n",
       "      <td>1.191857</td>\n",
       "      <td>0.266151</td>\n",
       "      <td>0.166480</td>\n",
       "      <td>0.448154</td>\n",
       "      <td>0.060018</td>\n",
       "      <td>-0.082361</td>\n",
       "      <td>-0.078803</td>\n",
       "      <td>0.085102</td>\n",
       "      <td>-0.255425</td>\n",
       "      <td>...</td>\n",
       "      <td>-0.225775</td>\n",
       "      <td>-0.638672</td>\n",
       "      <td>0.101288</td>\n",
       "      <td>-0.339846</td>\n",
       "      <td>0.167170</td>\n",
       "      <td>0.125895</td>\n",
       "      <td>-0.008983</td>\n",
       "      <td>0.014724</td>\n",
       "      <td>2.69</td>\n",
       "      <td>0</td>\n",
       "    </tr>\n",
       "    <tr>\n",
       "      <th>2</th>\n",
       "      <td>1.0</td>\n",
       "      <td>-1.358354</td>\n",
       "      <td>-1.340163</td>\n",
       "      <td>1.773209</td>\n",
       "      <td>0.379780</td>\n",
       "      <td>-0.503198</td>\n",
       "      <td>1.800499</td>\n",
       "      <td>0.791461</td>\n",
       "      <td>0.247676</td>\n",
       "      <td>-1.514654</td>\n",
       "      <td>...</td>\n",
       "      <td>0.247998</td>\n",
       "      <td>0.771679</td>\n",
       "      <td>0.909412</td>\n",
       "      <td>-0.689281</td>\n",
       "      <td>-0.327642</td>\n",
       "      <td>-0.139097</td>\n",
       "      <td>-0.055353</td>\n",
       "      <td>-0.059752</td>\n",
       "      <td>378.66</td>\n",
       "      <td>0</td>\n",
       "    </tr>\n",
       "    <tr>\n",
       "      <th>3</th>\n",
       "      <td>1.0</td>\n",
       "      <td>-0.966272</td>\n",
       "      <td>-0.185226</td>\n",
       "      <td>1.792993</td>\n",
       "      <td>-0.863291</td>\n",
       "      <td>-0.010309</td>\n",
       "      <td>1.247203</td>\n",
       "      <td>0.237609</td>\n",
       "      <td>0.377436</td>\n",
       "      <td>-1.387024</td>\n",
       "      <td>...</td>\n",
       "      <td>-0.108300</td>\n",
       "      <td>0.005274</td>\n",
       "      <td>-0.190321</td>\n",
       "      <td>-1.175575</td>\n",
       "      <td>0.647376</td>\n",
       "      <td>-0.221929</td>\n",
       "      <td>0.062723</td>\n",
       "      <td>0.061458</td>\n",
       "      <td>123.50</td>\n",
       "      <td>0</td>\n",
       "    </tr>\n",
       "    <tr>\n",
       "      <th>4</th>\n",
       "      <td>2.0</td>\n",
       "      <td>-1.158233</td>\n",
       "      <td>0.877737</td>\n",
       "      <td>1.548718</td>\n",
       "      <td>0.403034</td>\n",
       "      <td>-0.407193</td>\n",
       "      <td>0.095921</td>\n",
       "      <td>0.592941</td>\n",
       "      <td>-0.270533</td>\n",
       "      <td>0.817739</td>\n",
       "      <td>...</td>\n",
       "      <td>-0.009431</td>\n",
       "      <td>0.798278</td>\n",
       "      <td>-0.137458</td>\n",
       "      <td>0.141267</td>\n",
       "      <td>-0.206010</td>\n",
       "      <td>0.502292</td>\n",
       "      <td>0.219422</td>\n",
       "      <td>0.215153</td>\n",
       "      <td>69.99</td>\n",
       "      <td>0</td>\n",
       "    </tr>\n",
       "  </tbody>\n",
       "</table>\n",
       "<p>5 rows × 31 columns</p>\n",
       "</div>\n",
       "      <button class=\"colab-df-convert\" onclick=\"convertToInteractive('df-7969a83f-e1be-4311-8ff3-969cfa197e07')\"\n",
       "              title=\"Convert this dataframe to an interactive table.\"\n",
       "              style=\"display:none;\">\n",
       "        \n",
       "  <svg xmlns=\"http://www.w3.org/2000/svg\" height=\"24px\"viewBox=\"0 0 24 24\"\n",
       "       width=\"24px\">\n",
       "    <path d=\"M0 0h24v24H0V0z\" fill=\"none\"/>\n",
       "    <path d=\"M18.56 5.44l.94 2.06.94-2.06 2.06-.94-2.06-.94-.94-2.06-.94 2.06-2.06.94zm-11 1L8.5 8.5l.94-2.06 2.06-.94-2.06-.94L8.5 2.5l-.94 2.06-2.06.94zm10 10l.94 2.06.94-2.06 2.06-.94-2.06-.94-.94-2.06-.94 2.06-2.06.94z\"/><path d=\"M17.41 7.96l-1.37-1.37c-.4-.4-.92-.59-1.43-.59-.52 0-1.04.2-1.43.59L10.3 9.45l-7.72 7.72c-.78.78-.78 2.05 0 2.83L4 21.41c.39.39.9.59 1.41.59.51 0 1.02-.2 1.41-.59l7.78-7.78 2.81-2.81c.8-.78.8-2.07 0-2.86zM5.41 20L4 18.59l7.72-7.72 1.47 1.35L5.41 20z\"/>\n",
       "  </svg>\n",
       "      </button>\n",
       "      \n",
       "  <style>\n",
       "    .colab-df-container {\n",
       "      display:flex;\n",
       "      flex-wrap:wrap;\n",
       "      gap: 12px;\n",
       "    }\n",
       "\n",
       "    .colab-df-convert {\n",
       "      background-color: #E8F0FE;\n",
       "      border: none;\n",
       "      border-radius: 50%;\n",
       "      cursor: pointer;\n",
       "      display: none;\n",
       "      fill: #1967D2;\n",
       "      height: 32px;\n",
       "      padding: 0 0 0 0;\n",
       "      width: 32px;\n",
       "    }\n",
       "\n",
       "    .colab-df-convert:hover {\n",
       "      background-color: #E2EBFA;\n",
       "      box-shadow: 0px 1px 2px rgba(60, 64, 67, 0.3), 0px 1px 3px 1px rgba(60, 64, 67, 0.15);\n",
       "      fill: #174EA6;\n",
       "    }\n",
       "\n",
       "    [theme=dark] .colab-df-convert {\n",
       "      background-color: #3B4455;\n",
       "      fill: #D2E3FC;\n",
       "    }\n",
       "\n",
       "    [theme=dark] .colab-df-convert:hover {\n",
       "      background-color: #434B5C;\n",
       "      box-shadow: 0px 1px 3px 1px rgba(0, 0, 0, 0.15);\n",
       "      filter: drop-shadow(0px 1px 2px rgba(0, 0, 0, 0.3));\n",
       "      fill: #FFFFFF;\n",
       "    }\n",
       "  </style>\n",
       "\n",
       "      <script>\n",
       "        const buttonEl =\n",
       "          document.querySelector('#df-7969a83f-e1be-4311-8ff3-969cfa197e07 button.colab-df-convert');\n",
       "        buttonEl.style.display =\n",
       "          google.colab.kernel.accessAllowed ? 'block' : 'none';\n",
       "\n",
       "        async function convertToInteractive(key) {\n",
       "          const element = document.querySelector('#df-7969a83f-e1be-4311-8ff3-969cfa197e07');\n",
       "          const dataTable =\n",
       "            await google.colab.kernel.invokeFunction('convertToInteractive',\n",
       "                                                     [key], {});\n",
       "          if (!dataTable) return;\n",
       "\n",
       "          const docLinkHtml = 'Like what you see? Visit the ' +\n",
       "            '<a target=\"_blank\" href=https://colab.research.google.com/notebooks/data_table.ipynb>data table notebook</a>'\n",
       "            + ' to learn more about interactive tables.';\n",
       "          element.innerHTML = '';\n",
       "          dataTable['output_type'] = 'display_data';\n",
       "          await google.colab.output.renderOutput(dataTable, element);\n",
       "          const docLink = document.createElement('div');\n",
       "          docLink.innerHTML = docLinkHtml;\n",
       "          element.appendChild(docLink);\n",
       "        }\n",
       "      </script>\n",
       "    </div>\n",
       "  </div>\n",
       "  "
      ],
      "text/plain": [
       "   Time        V1        V2        V3        V4        V5        V6        V7  \\\n",
       "0   0.0 -1.359807 -0.072781  2.536347  1.378155 -0.338321  0.462388  0.239599   \n",
       "1   0.0  1.191857  0.266151  0.166480  0.448154  0.060018 -0.082361 -0.078803   \n",
       "2   1.0 -1.358354 -1.340163  1.773209  0.379780 -0.503198  1.800499  0.791461   \n",
       "3   1.0 -0.966272 -0.185226  1.792993 -0.863291 -0.010309  1.247203  0.237609   \n",
       "4   2.0 -1.158233  0.877737  1.548718  0.403034 -0.407193  0.095921  0.592941   \n",
       "\n",
       "         V8        V9  ...       V21       V22       V23       V24       V25  \\\n",
       "0  0.098698  0.363787  ... -0.018307  0.277838 -0.110474  0.066928  0.128539   \n",
       "1  0.085102 -0.255425  ... -0.225775 -0.638672  0.101288 -0.339846  0.167170   \n",
       "2  0.247676 -1.514654  ...  0.247998  0.771679  0.909412 -0.689281 -0.327642   \n",
       "3  0.377436 -1.387024  ... -0.108300  0.005274 -0.190321 -1.175575  0.647376   \n",
       "4 -0.270533  0.817739  ... -0.009431  0.798278 -0.137458  0.141267 -0.206010   \n",
       "\n",
       "        V26       V27       V28  Amount  Class  \n",
       "0 -0.189115  0.133558 -0.021053  149.62      0  \n",
       "1  0.125895 -0.008983  0.014724    2.69      0  \n",
       "2 -0.139097 -0.055353 -0.059752  378.66      0  \n",
       "3 -0.221929  0.062723  0.061458  123.50      0  \n",
       "4  0.502292  0.219422  0.215153   69.99      0  \n",
       "\n",
       "[5 rows x 31 columns]"
      ]
     },
     "execution_count": 2,
     "metadata": {},
     "output_type": "execute_result"
    }
   ],
   "source": [
    "#to load datase\n",
    "df=pd.read_csv(\"/content/creditcard.csv\")\n",
    "df.head()"
   ]
  },
  {
   "cell_type": "code",
   "execution_count": null,
   "metadata": {
    "colab": {
     "base_uri": "https://localhost:8080/"
    },
    "id": "Sg7LGH9GseDB",
    "outputId": "23585377-3c99-458c-de64-85dc879a4b90"
   },
   "outputs": [
    {
     "data": {
      "text/plain": [
       "(284807, 31)"
      ]
     },
     "execution_count": 3,
     "metadata": {},
     "output_type": "execute_result"
    }
   ],
   "source": [
    "df.shape\n"
   ]
  },
  {
   "cell_type": "code",
   "execution_count": null,
   "metadata": {
    "colab": {
     "base_uri": "https://localhost:8080/"
    },
    "id": "1MNOguKvshro",
    "outputId": "faa59da2-3c4c-4591-8baf-086e5d6e08f5"
   },
   "outputs": [
    {
     "name": "stdout",
     "output_type": "stream",
     "text": [
      "Time      0\n",
      "V1        0\n",
      "V2        0\n",
      "V3        0\n",
      "V4        0\n",
      "V5        0\n",
      "V6        0\n",
      "V7        0\n",
      "V8        0\n",
      "V9        0\n",
      "V10       0\n",
      "V11       0\n",
      "V12       0\n",
      "V13       0\n",
      "V14       0\n",
      "V15       0\n",
      "V16       0\n",
      "V17       0\n",
      "V18       0\n",
      "V19       0\n",
      "V20       0\n",
      "V21       0\n",
      "V22       0\n",
      "V23       0\n",
      "V24       0\n",
      "V25       0\n",
      "V26       0\n",
      "V27       0\n",
      "V28       0\n",
      "Amount    0\n",
      "Class     0\n",
      "dtype: int64\n"
     ]
    }
   ],
   "source": [
    "#Check null values alongwith heat map\n",
    "print(df.isnull().sum())\n",
    "plt.show()"
   ]
  },
  {
   "cell_type": "code",
   "execution_count": null,
   "metadata": {
    "colab": {
     "base_uri": "https://localhost:8080/"
    },
    "id": "HxF4mx5Ysk9I",
    "outputId": "7e85249c-1af1-4982-caff-4c31fdc86ee9"
   },
   "outputs": [
    {
     "name": "stdout",
     "output_type": "stream",
     "text": [
      "<class 'pandas.core.frame.DataFrame'>\n",
      "RangeIndex: 284807 entries, 0 to 284806\n",
      "Data columns (total 31 columns):\n",
      " #   Column  Non-Null Count   Dtype  \n",
      "---  ------  --------------   -----  \n",
      " 0   Time    284807 non-null  float64\n",
      " 1   V1      284807 non-null  float64\n",
      " 2   V2      284807 non-null  float64\n",
      " 3   V3      284807 non-null  float64\n",
      " 4   V4      284807 non-null  float64\n",
      " 5   V5      284807 non-null  float64\n",
      " 6   V6      284807 non-null  float64\n",
      " 7   V7      284807 non-null  float64\n",
      " 8   V8      284807 non-null  float64\n",
      " 9   V9      284807 non-null  float64\n",
      " 10  V10     284807 non-null  float64\n",
      " 11  V11     284807 non-null  float64\n",
      " 12  V12     284807 non-null  float64\n",
      " 13  V13     284807 non-null  float64\n",
      " 14  V14     284807 non-null  float64\n",
      " 15  V15     284807 non-null  float64\n",
      " 16  V16     284807 non-null  float64\n",
      " 17  V17     284807 non-null  float64\n",
      " 18  V18     284807 non-null  float64\n",
      " 19  V19     284807 non-null  float64\n",
      " 20  V20     284807 non-null  float64\n",
      " 21  V21     284807 non-null  float64\n",
      " 22  V22     284807 non-null  float64\n",
      " 23  V23     284807 non-null  float64\n",
      " 24  V24     284807 non-null  float64\n",
      " 25  V25     284807 non-null  float64\n",
      " 26  V26     284807 non-null  float64\n",
      " 27  V27     284807 non-null  float64\n",
      " 28  V28     284807 non-null  float64\n",
      " 29  Amount  284807 non-null  float64\n",
      " 30  Class   284807 non-null  int64  \n",
      "dtypes: float64(30), int64(1)\n",
      "memory usage: 67.4 MB\n"
     ]
    }
   ],
   "source": [
    "df.info()"
   ]
  },
  {
   "cell_type": "code",
   "execution_count": null,
   "metadata": {
    "id": "fYOZ_iRtvv_S"
   },
   "outputs": [],
   "source": [
    "df.drop(\"Time\",axis=1,inplace=True)"
   ]
  },
  {
   "cell_type": "code",
   "execution_count": null,
   "metadata": {
    "id": "TTJWKxQ5wDIu"
   },
   "outputs": [],
   "source": [
    "X=df.drop(\"Class\",axis=1)\n",
    "Y=df[\"Class\"]"
   ]
  },
  {
   "cell_type": "code",
   "execution_count": null,
   "metadata": {
    "colab": {
     "base_uri": "https://localhost:8080/",
     "height": 424
    },
    "id": "EzWmfp7XwRlM",
    "outputId": "53555e0d-7d44-4138-d1bf-3d34f2dfe246"
   },
   "outputs": [
    {
     "data": {
      "text/html": [
       "\n",
       "  <div id=\"df-ec512202-05d5-470b-9c7d-af1ce9a738dc\">\n",
       "    <div class=\"colab-df-container\">\n",
       "      <div>\n",
       "<style scoped>\n",
       "    .dataframe tbody tr th:only-of-type {\n",
       "        vertical-align: middle;\n",
       "    }\n",
       "\n",
       "    .dataframe tbody tr th {\n",
       "        vertical-align: top;\n",
       "    }\n",
       "\n",
       "    .dataframe thead th {\n",
       "        text-align: right;\n",
       "    }\n",
       "</style>\n",
       "<table border=\"1\" class=\"dataframe\">\n",
       "  <thead>\n",
       "    <tr style=\"text-align: right;\">\n",
       "      <th></th>\n",
       "      <th>V1</th>\n",
       "      <th>V2</th>\n",
       "      <th>V3</th>\n",
       "      <th>V4</th>\n",
       "      <th>V5</th>\n",
       "      <th>V6</th>\n",
       "      <th>V7</th>\n",
       "      <th>V8</th>\n",
       "      <th>V9</th>\n",
       "      <th>V10</th>\n",
       "      <th>...</th>\n",
       "      <th>V20</th>\n",
       "      <th>V21</th>\n",
       "      <th>V22</th>\n",
       "      <th>V23</th>\n",
       "      <th>V24</th>\n",
       "      <th>V25</th>\n",
       "      <th>V26</th>\n",
       "      <th>V27</th>\n",
       "      <th>V28</th>\n",
       "      <th>Amount</th>\n",
       "    </tr>\n",
       "  </thead>\n",
       "  <tbody>\n",
       "    <tr>\n",
       "      <th>0</th>\n",
       "      <td>-1.359807</td>\n",
       "      <td>-0.072781</td>\n",
       "      <td>2.536347</td>\n",
       "      <td>1.378155</td>\n",
       "      <td>-0.338321</td>\n",
       "      <td>0.462388</td>\n",
       "      <td>0.239599</td>\n",
       "      <td>0.098698</td>\n",
       "      <td>0.363787</td>\n",
       "      <td>0.090794</td>\n",
       "      <td>...</td>\n",
       "      <td>0.251412</td>\n",
       "      <td>-0.018307</td>\n",
       "      <td>0.277838</td>\n",
       "      <td>-0.110474</td>\n",
       "      <td>0.066928</td>\n",
       "      <td>0.128539</td>\n",
       "      <td>-0.189115</td>\n",
       "      <td>0.133558</td>\n",
       "      <td>-0.021053</td>\n",
       "      <td>149.62</td>\n",
       "    </tr>\n",
       "    <tr>\n",
       "      <th>1</th>\n",
       "      <td>1.191857</td>\n",
       "      <td>0.266151</td>\n",
       "      <td>0.166480</td>\n",
       "      <td>0.448154</td>\n",
       "      <td>0.060018</td>\n",
       "      <td>-0.082361</td>\n",
       "      <td>-0.078803</td>\n",
       "      <td>0.085102</td>\n",
       "      <td>-0.255425</td>\n",
       "      <td>-0.166974</td>\n",
       "      <td>...</td>\n",
       "      <td>-0.069083</td>\n",
       "      <td>-0.225775</td>\n",
       "      <td>-0.638672</td>\n",
       "      <td>0.101288</td>\n",
       "      <td>-0.339846</td>\n",
       "      <td>0.167170</td>\n",
       "      <td>0.125895</td>\n",
       "      <td>-0.008983</td>\n",
       "      <td>0.014724</td>\n",
       "      <td>2.69</td>\n",
       "    </tr>\n",
       "    <tr>\n",
       "      <th>2</th>\n",
       "      <td>-1.358354</td>\n",
       "      <td>-1.340163</td>\n",
       "      <td>1.773209</td>\n",
       "      <td>0.379780</td>\n",
       "      <td>-0.503198</td>\n",
       "      <td>1.800499</td>\n",
       "      <td>0.791461</td>\n",
       "      <td>0.247676</td>\n",
       "      <td>-1.514654</td>\n",
       "      <td>0.207643</td>\n",
       "      <td>...</td>\n",
       "      <td>0.524980</td>\n",
       "      <td>0.247998</td>\n",
       "      <td>0.771679</td>\n",
       "      <td>0.909412</td>\n",
       "      <td>-0.689281</td>\n",
       "      <td>-0.327642</td>\n",
       "      <td>-0.139097</td>\n",
       "      <td>-0.055353</td>\n",
       "      <td>-0.059752</td>\n",
       "      <td>378.66</td>\n",
       "    </tr>\n",
       "    <tr>\n",
       "      <th>3</th>\n",
       "      <td>-0.966272</td>\n",
       "      <td>-0.185226</td>\n",
       "      <td>1.792993</td>\n",
       "      <td>-0.863291</td>\n",
       "      <td>-0.010309</td>\n",
       "      <td>1.247203</td>\n",
       "      <td>0.237609</td>\n",
       "      <td>0.377436</td>\n",
       "      <td>-1.387024</td>\n",
       "      <td>-0.054952</td>\n",
       "      <td>...</td>\n",
       "      <td>-0.208038</td>\n",
       "      <td>-0.108300</td>\n",
       "      <td>0.005274</td>\n",
       "      <td>-0.190321</td>\n",
       "      <td>-1.175575</td>\n",
       "      <td>0.647376</td>\n",
       "      <td>-0.221929</td>\n",
       "      <td>0.062723</td>\n",
       "      <td>0.061458</td>\n",
       "      <td>123.50</td>\n",
       "    </tr>\n",
       "    <tr>\n",
       "      <th>4</th>\n",
       "      <td>-1.158233</td>\n",
       "      <td>0.877737</td>\n",
       "      <td>1.548718</td>\n",
       "      <td>0.403034</td>\n",
       "      <td>-0.407193</td>\n",
       "      <td>0.095921</td>\n",
       "      <td>0.592941</td>\n",
       "      <td>-0.270533</td>\n",
       "      <td>0.817739</td>\n",
       "      <td>0.753074</td>\n",
       "      <td>...</td>\n",
       "      <td>0.408542</td>\n",
       "      <td>-0.009431</td>\n",
       "      <td>0.798278</td>\n",
       "      <td>-0.137458</td>\n",
       "      <td>0.141267</td>\n",
       "      <td>-0.206010</td>\n",
       "      <td>0.502292</td>\n",
       "      <td>0.219422</td>\n",
       "      <td>0.215153</td>\n",
       "      <td>69.99</td>\n",
       "    </tr>\n",
       "    <tr>\n",
       "      <th>...</th>\n",
       "      <td>...</td>\n",
       "      <td>...</td>\n",
       "      <td>...</td>\n",
       "      <td>...</td>\n",
       "      <td>...</td>\n",
       "      <td>...</td>\n",
       "      <td>...</td>\n",
       "      <td>...</td>\n",
       "      <td>...</td>\n",
       "      <td>...</td>\n",
       "      <td>...</td>\n",
       "      <td>...</td>\n",
       "      <td>...</td>\n",
       "      <td>...</td>\n",
       "      <td>...</td>\n",
       "      <td>...</td>\n",
       "      <td>...</td>\n",
       "      <td>...</td>\n",
       "      <td>...</td>\n",
       "      <td>...</td>\n",
       "      <td>...</td>\n",
       "    </tr>\n",
       "    <tr>\n",
       "      <th>284802</th>\n",
       "      <td>-11.881118</td>\n",
       "      <td>10.071785</td>\n",
       "      <td>-9.834783</td>\n",
       "      <td>-2.066656</td>\n",
       "      <td>-5.364473</td>\n",
       "      <td>-2.606837</td>\n",
       "      <td>-4.918215</td>\n",
       "      <td>7.305334</td>\n",
       "      <td>1.914428</td>\n",
       "      <td>4.356170</td>\n",
       "      <td>...</td>\n",
       "      <td>1.475829</td>\n",
       "      <td>0.213454</td>\n",
       "      <td>0.111864</td>\n",
       "      <td>1.014480</td>\n",
       "      <td>-0.509348</td>\n",
       "      <td>1.436807</td>\n",
       "      <td>0.250034</td>\n",
       "      <td>0.943651</td>\n",
       "      <td>0.823731</td>\n",
       "      <td>0.77</td>\n",
       "    </tr>\n",
       "    <tr>\n",
       "      <th>284803</th>\n",
       "      <td>-0.732789</td>\n",
       "      <td>-0.055080</td>\n",
       "      <td>2.035030</td>\n",
       "      <td>-0.738589</td>\n",
       "      <td>0.868229</td>\n",
       "      <td>1.058415</td>\n",
       "      <td>0.024330</td>\n",
       "      <td>0.294869</td>\n",
       "      <td>0.584800</td>\n",
       "      <td>-0.975926</td>\n",
       "      <td>...</td>\n",
       "      <td>0.059616</td>\n",
       "      <td>0.214205</td>\n",
       "      <td>0.924384</td>\n",
       "      <td>0.012463</td>\n",
       "      <td>-1.016226</td>\n",
       "      <td>-0.606624</td>\n",
       "      <td>-0.395255</td>\n",
       "      <td>0.068472</td>\n",
       "      <td>-0.053527</td>\n",
       "      <td>24.79</td>\n",
       "    </tr>\n",
       "    <tr>\n",
       "      <th>284804</th>\n",
       "      <td>1.919565</td>\n",
       "      <td>-0.301254</td>\n",
       "      <td>-3.249640</td>\n",
       "      <td>-0.557828</td>\n",
       "      <td>2.630515</td>\n",
       "      <td>3.031260</td>\n",
       "      <td>-0.296827</td>\n",
       "      <td>0.708417</td>\n",
       "      <td>0.432454</td>\n",
       "      <td>-0.484782</td>\n",
       "      <td>...</td>\n",
       "      <td>0.001396</td>\n",
       "      <td>0.232045</td>\n",
       "      <td>0.578229</td>\n",
       "      <td>-0.037501</td>\n",
       "      <td>0.640134</td>\n",
       "      <td>0.265745</td>\n",
       "      <td>-0.087371</td>\n",
       "      <td>0.004455</td>\n",
       "      <td>-0.026561</td>\n",
       "      <td>67.88</td>\n",
       "    </tr>\n",
       "    <tr>\n",
       "      <th>284805</th>\n",
       "      <td>-0.240440</td>\n",
       "      <td>0.530483</td>\n",
       "      <td>0.702510</td>\n",
       "      <td>0.689799</td>\n",
       "      <td>-0.377961</td>\n",
       "      <td>0.623708</td>\n",
       "      <td>-0.686180</td>\n",
       "      <td>0.679145</td>\n",
       "      <td>0.392087</td>\n",
       "      <td>-0.399126</td>\n",
       "      <td>...</td>\n",
       "      <td>0.127434</td>\n",
       "      <td>0.265245</td>\n",
       "      <td>0.800049</td>\n",
       "      <td>-0.163298</td>\n",
       "      <td>0.123205</td>\n",
       "      <td>-0.569159</td>\n",
       "      <td>0.546668</td>\n",
       "      <td>0.108821</td>\n",
       "      <td>0.104533</td>\n",
       "      <td>10.00</td>\n",
       "    </tr>\n",
       "    <tr>\n",
       "      <th>284806</th>\n",
       "      <td>-0.533413</td>\n",
       "      <td>-0.189733</td>\n",
       "      <td>0.703337</td>\n",
       "      <td>-0.506271</td>\n",
       "      <td>-0.012546</td>\n",
       "      <td>-0.649617</td>\n",
       "      <td>1.577006</td>\n",
       "      <td>-0.414650</td>\n",
       "      <td>0.486180</td>\n",
       "      <td>-0.915427</td>\n",
       "      <td>...</td>\n",
       "      <td>0.382948</td>\n",
       "      <td>0.261057</td>\n",
       "      <td>0.643078</td>\n",
       "      <td>0.376777</td>\n",
       "      <td>0.008797</td>\n",
       "      <td>-0.473649</td>\n",
       "      <td>-0.818267</td>\n",
       "      <td>-0.002415</td>\n",
       "      <td>0.013649</td>\n",
       "      <td>217.00</td>\n",
       "    </tr>\n",
       "  </tbody>\n",
       "</table>\n",
       "<p>284807 rows × 29 columns</p>\n",
       "</div>\n",
       "      <button class=\"colab-df-convert\" onclick=\"convertToInteractive('df-ec512202-05d5-470b-9c7d-af1ce9a738dc')\"\n",
       "              title=\"Convert this dataframe to an interactive table.\"\n",
       "              style=\"display:none;\">\n",
       "        \n",
       "  <svg xmlns=\"http://www.w3.org/2000/svg\" height=\"24px\"viewBox=\"0 0 24 24\"\n",
       "       width=\"24px\">\n",
       "    <path d=\"M0 0h24v24H0V0z\" fill=\"none\"/>\n",
       "    <path d=\"M18.56 5.44l.94 2.06.94-2.06 2.06-.94-2.06-.94-.94-2.06-.94 2.06-2.06.94zm-11 1L8.5 8.5l.94-2.06 2.06-.94-2.06-.94L8.5 2.5l-.94 2.06-2.06.94zm10 10l.94 2.06.94-2.06 2.06-.94-2.06-.94-.94-2.06-.94 2.06-2.06.94z\"/><path d=\"M17.41 7.96l-1.37-1.37c-.4-.4-.92-.59-1.43-.59-.52 0-1.04.2-1.43.59L10.3 9.45l-7.72 7.72c-.78.78-.78 2.05 0 2.83L4 21.41c.39.39.9.59 1.41.59.51 0 1.02-.2 1.41-.59l7.78-7.78 2.81-2.81c.8-.78.8-2.07 0-2.86zM5.41 20L4 18.59l7.72-7.72 1.47 1.35L5.41 20z\"/>\n",
       "  </svg>\n",
       "      </button>\n",
       "      \n",
       "  <style>\n",
       "    .colab-df-container {\n",
       "      display:flex;\n",
       "      flex-wrap:wrap;\n",
       "      gap: 12px;\n",
       "    }\n",
       "\n",
       "    .colab-df-convert {\n",
       "      background-color: #E8F0FE;\n",
       "      border: none;\n",
       "      border-radius: 50%;\n",
       "      cursor: pointer;\n",
       "      display: none;\n",
       "      fill: #1967D2;\n",
       "      height: 32px;\n",
       "      padding: 0 0 0 0;\n",
       "      width: 32px;\n",
       "    }\n",
       "\n",
       "    .colab-df-convert:hover {\n",
       "      background-color: #E2EBFA;\n",
       "      box-shadow: 0px 1px 2px rgba(60, 64, 67, 0.3), 0px 1px 3px 1px rgba(60, 64, 67, 0.15);\n",
       "      fill: #174EA6;\n",
       "    }\n",
       "\n",
       "    [theme=dark] .colab-df-convert {\n",
       "      background-color: #3B4455;\n",
       "      fill: #D2E3FC;\n",
       "    }\n",
       "\n",
       "    [theme=dark] .colab-df-convert:hover {\n",
       "      background-color: #434B5C;\n",
       "      box-shadow: 0px 1px 3px 1px rgba(0, 0, 0, 0.15);\n",
       "      filter: drop-shadow(0px 1px 2px rgba(0, 0, 0, 0.3));\n",
       "      fill: #FFFFFF;\n",
       "    }\n",
       "  </style>\n",
       "\n",
       "      <script>\n",
       "        const buttonEl =\n",
       "          document.querySelector('#df-ec512202-05d5-470b-9c7d-af1ce9a738dc button.colab-df-convert');\n",
       "        buttonEl.style.display =\n",
       "          google.colab.kernel.accessAllowed ? 'block' : 'none';\n",
       "\n",
       "        async function convertToInteractive(key) {\n",
       "          const element = document.querySelector('#df-ec512202-05d5-470b-9c7d-af1ce9a738dc');\n",
       "          const dataTable =\n",
       "            await google.colab.kernel.invokeFunction('convertToInteractive',\n",
       "                                                     [key], {});\n",
       "          if (!dataTable) return;\n",
       "\n",
       "          const docLinkHtml = 'Like what you see? Visit the ' +\n",
       "            '<a target=\"_blank\" href=https://colab.research.google.com/notebooks/data_table.ipynb>data table notebook</a>'\n",
       "            + ' to learn more about interactive tables.';\n",
       "          element.innerHTML = '';\n",
       "          dataTable['output_type'] = 'display_data';\n",
       "          await google.colab.output.renderOutput(dataTable, element);\n",
       "          const docLink = document.createElement('div');\n",
       "          docLink.innerHTML = docLinkHtml;\n",
       "          element.appendChild(docLink);\n",
       "        }\n",
       "      </script>\n",
       "    </div>\n",
       "  </div>\n",
       "  "
      ],
      "text/plain": [
       "               V1         V2        V3        V4        V5        V6  \\\n",
       "0       -1.359807  -0.072781  2.536347  1.378155 -0.338321  0.462388   \n",
       "1        1.191857   0.266151  0.166480  0.448154  0.060018 -0.082361   \n",
       "2       -1.358354  -1.340163  1.773209  0.379780 -0.503198  1.800499   \n",
       "3       -0.966272  -0.185226  1.792993 -0.863291 -0.010309  1.247203   \n",
       "4       -1.158233   0.877737  1.548718  0.403034 -0.407193  0.095921   \n",
       "...           ...        ...       ...       ...       ...       ...   \n",
       "284802 -11.881118  10.071785 -9.834783 -2.066656 -5.364473 -2.606837   \n",
       "284803  -0.732789  -0.055080  2.035030 -0.738589  0.868229  1.058415   \n",
       "284804   1.919565  -0.301254 -3.249640 -0.557828  2.630515  3.031260   \n",
       "284805  -0.240440   0.530483  0.702510  0.689799 -0.377961  0.623708   \n",
       "284806  -0.533413  -0.189733  0.703337 -0.506271 -0.012546 -0.649617   \n",
       "\n",
       "              V7        V8        V9       V10  ...       V20       V21  \\\n",
       "0       0.239599  0.098698  0.363787  0.090794  ...  0.251412 -0.018307   \n",
       "1      -0.078803  0.085102 -0.255425 -0.166974  ... -0.069083 -0.225775   \n",
       "2       0.791461  0.247676 -1.514654  0.207643  ...  0.524980  0.247998   \n",
       "3       0.237609  0.377436 -1.387024 -0.054952  ... -0.208038 -0.108300   \n",
       "4       0.592941 -0.270533  0.817739  0.753074  ...  0.408542 -0.009431   \n",
       "...          ...       ...       ...       ...  ...       ...       ...   \n",
       "284802 -4.918215  7.305334  1.914428  4.356170  ...  1.475829  0.213454   \n",
       "284803  0.024330  0.294869  0.584800 -0.975926  ...  0.059616  0.214205   \n",
       "284804 -0.296827  0.708417  0.432454 -0.484782  ...  0.001396  0.232045   \n",
       "284805 -0.686180  0.679145  0.392087 -0.399126  ...  0.127434  0.265245   \n",
       "284806  1.577006 -0.414650  0.486180 -0.915427  ...  0.382948  0.261057   \n",
       "\n",
       "             V22       V23       V24       V25       V26       V27       V28  \\\n",
       "0       0.277838 -0.110474  0.066928  0.128539 -0.189115  0.133558 -0.021053   \n",
       "1      -0.638672  0.101288 -0.339846  0.167170  0.125895 -0.008983  0.014724   \n",
       "2       0.771679  0.909412 -0.689281 -0.327642 -0.139097 -0.055353 -0.059752   \n",
       "3       0.005274 -0.190321 -1.175575  0.647376 -0.221929  0.062723  0.061458   \n",
       "4       0.798278 -0.137458  0.141267 -0.206010  0.502292  0.219422  0.215153   \n",
       "...          ...       ...       ...       ...       ...       ...       ...   \n",
       "284802  0.111864  1.014480 -0.509348  1.436807  0.250034  0.943651  0.823731   \n",
       "284803  0.924384  0.012463 -1.016226 -0.606624 -0.395255  0.068472 -0.053527   \n",
       "284804  0.578229 -0.037501  0.640134  0.265745 -0.087371  0.004455 -0.026561   \n",
       "284805  0.800049 -0.163298  0.123205 -0.569159  0.546668  0.108821  0.104533   \n",
       "284806  0.643078  0.376777  0.008797 -0.473649 -0.818267 -0.002415  0.013649   \n",
       "\n",
       "        Amount  \n",
       "0       149.62  \n",
       "1         2.69  \n",
       "2       378.66  \n",
       "3       123.50  \n",
       "4        69.99  \n",
       "...        ...  \n",
       "284802    0.77  \n",
       "284803   24.79  \n",
       "284804   67.88  \n",
       "284805   10.00  \n",
       "284806  217.00  \n",
       "\n",
       "[284807 rows x 29 columns]"
      ]
     },
     "execution_count": 9,
     "metadata": {},
     "output_type": "execute_result"
    }
   ],
   "source": [
    "X"
   ]
  },
  {
   "cell_type": "code",
   "execution_count": null,
   "metadata": {
    "colab": {
     "base_uri": "https://localhost:8080/"
    },
    "id": "pcoNgtchwThO",
    "outputId": "c712de16-eb81-4567-9c40-480e17a620a4"
   },
   "outputs": [
    {
     "data": {
      "text/plain": [
       "0         0\n",
       "1         0\n",
       "2         0\n",
       "3         0\n",
       "4         0\n",
       "         ..\n",
       "284802    0\n",
       "284803    0\n",
       "284804    0\n",
       "284805    0\n",
       "284806    0\n",
       "Name: Class, Length: 284807, dtype: int64"
      ]
     },
     "execution_count": 10,
     "metadata": {},
     "output_type": "execute_result"
    }
   ],
   "source": [
    "Y"
   ]
  },
  {
   "cell_type": "code",
   "execution_count": null,
   "metadata": {
    "id": "ISJEd-B5wbsV"
   },
   "outputs": [],
   "source": [
    "from sklearn.model_selection import train_test_split\n",
    "X_train,X_test,Y_train,Y_test=train_test_split(X,Y,test_size=0.3,random_state=1,stratify=Y)"
   ]
  },
  {
   "cell_type": "code",
   "execution_count": null,
   "metadata": {
    "id": "roN9LWx-wkL4"
   },
   "outputs": [],
   "source": [
    "#apply standard scaler\n",
    "from sklearn.preprocessing import StandardScaler\n",
    "#create the object of StandardScaler class\n",
    "ss=StandardScaler()\n",
    "X_train=ss.fit_transform(X_train)\n",
    "X_test=ss.transform(X_test)"
   ]
  },
  {
   "cell_type": "code",
   "execution_count": null,
   "metadata": {
    "colab": {
     "base_uri": "https://localhost:8080/"
    },
    "id": "ziL4OnVswmWN",
    "outputId": "949e6478-280c-4b92-a1ca-46cb810057a0"
   },
   "outputs": [
    {
     "data": {
      "text/plain": [
       "0    199020\n",
       "1       344\n",
       "Name: Class, dtype: int64"
      ]
     },
     "execution_count": 13,
     "metadata": {},
     "output_type": "execute_result"
    }
   ],
   "source": [
    "pd.Series(Y_train).value_counts()"
   ]
  },
  {
   "cell_type": "code",
   "execution_count": null,
   "metadata": {
    "colab": {
     "base_uri": "https://localhost:8080/"
    },
    "id": "zs5caE-PwoPM",
    "outputId": "8d9105f0-40da-4e3d-8679-25d8ab0c1f5d"
   },
   "outputs": [
    {
     "data": {
      "text/plain": [
       "0    85295\n",
       "1      148\n",
       "Name: Class, dtype: int64"
      ]
     },
     "execution_count": 14,
     "metadata": {},
     "output_type": "execute_result"
    }
   ],
   "source": [
    "pd.Series(Y_test).value_counts()"
   ]
  },
  {
   "cell_type": "code",
   "execution_count": null,
   "metadata": {
    "colab": {
     "base_uri": "https://localhost:8080/"
    },
    "id": "IEPj1rz0wr0q",
    "outputId": "2002f986-297d-4e9c-cc9e-f0cb9c867a8a"
   },
   "outputs": [
    {
     "name": "stdout",
     "output_type": "stream",
     "text": [
      "Requirement already satisfied: imblearn in /usr/local/lib/python3.7/dist-packages (0.0)\n",
      "Requirement already satisfied: imbalanced-learn in /usr/local/lib/python3.7/dist-packages (from imblearn) (0.8.1)\n",
      "Requirement already satisfied: scikit-learn>=0.24 in /usr/local/lib/python3.7/dist-packages (from imbalanced-learn->imblearn) (1.0.2)\n",
      "Requirement already satisfied: numpy>=1.13.3 in /usr/local/lib/python3.7/dist-packages (from imbalanced-learn->imblearn) (1.21.5)\n",
      "Requirement already satisfied: scipy>=0.19.1 in /usr/local/lib/python3.7/dist-packages (from imbalanced-learn->imblearn) (1.4.1)\n",
      "Requirement already satisfied: joblib>=0.11 in /usr/local/lib/python3.7/dist-packages (from imbalanced-learn->imblearn) (1.1.0)\n",
      "Requirement already satisfied: threadpoolctl>=2.0.0 in /usr/local/lib/python3.7/dist-packages (from scikit-learn>=0.24->imbalanced-learn->imblearn) (3.1.0)\n"
     ]
    }
   ],
   "source": [
    "#first install inbuilt package imblearn\n",
    "!pip install imblearn"
   ]
  },
  {
   "cell_type": "code",
   "execution_count": null,
   "metadata": {
    "id": "vZLgM1DWwvVQ"
   },
   "outputs": [],
   "source": [
    "#use randomoversampling\n",
    "from imblearn.over_sampling import RandomOverSampler"
   ]
  },
  {
   "cell_type": "code",
   "execution_count": null,
   "metadata": {
    "id": "9bNeCzgqwzqS"
   },
   "outputs": [],
   "source": [
    "#create obj of RandomOverSampler\n",
    "ros = RandomOverSampler(random_state=1)"
   ]
  },
  {
   "cell_type": "code",
   "execution_count": null,
   "metadata": {
    "id": "QjMmC4vJw1eL"
   },
   "outputs": [],
   "source": [
    "X_train_ros,Y_train_ros=ros.fit_resample(X_train,Y_train)"
   ]
  },
  {
   "cell_type": "code",
   "execution_count": null,
   "metadata": {
    "id": "AVRpmNlaw2t5"
   },
   "outputs": [],
   "source": [
    "X_test_ros,Y_test_ros=ros.fit_resample(X_test,Y_test)"
   ]
  },
  {
   "cell_type": "code",
   "execution_count": null,
   "metadata": {
    "colab": {
     "base_uri": "https://localhost:8080/"
    },
    "id": "ZcXBzeTqw5LD",
    "outputId": "9efec60a-840b-4d99-b814-d6eb8d40bf38"
   },
   "outputs": [
    {
     "data": {
      "text/plain": [
       "0    85295\n",
       "1    85295\n",
       "Name: Class, dtype: int64"
      ]
     },
     "execution_count": 20,
     "metadata": {},
     "output_type": "execute_result"
    }
   ],
   "source": [
    "pd.Series(Y_test_ros).value_counts()"
   ]
  },
  {
   "cell_type": "code",
   "execution_count": null,
   "metadata": {
    "colab": {
     "base_uri": "https://localhost:8080/"
    },
    "id": "DguIuXQNw92N",
    "outputId": "7153b844-c4b3-48b2-b1fa-46768fc5c414"
   },
   "outputs": [
    {
     "data": {
      "text/plain": [
       "(284807, 29)"
      ]
     },
     "execution_count": 21,
     "metadata": {},
     "output_type": "execute_result"
    }
   ],
   "source": [
    "X.shape"
   ]
  },
  {
   "cell_type": "code",
   "execution_count": null,
   "metadata": {
    "id": "8P-K-Yd4xCEZ"
   },
   "outputs": [],
   "source": [
    "#create a neural network\n",
    "#create a nerual network (NN)\n",
    "import tensorflow as tf\n",
    "#create object of squential class \n",
    "model=tf.keras.Sequential([\n",
    "                           tf.keras.layers.Dense(64,activation=\"relu\",input_shape=(X.shape[1],)),\n",
    "                           #hidden layer1\n",
    "                           tf.keras.layers.Dense(64,activation=\"relu\"),   #hidden layers2\n",
    "                           tf.keras.layers.Dense(1,activation=\"sigmoid\")  #output layer\n",
    "                           ])"
   ]
  },
  {
   "cell_type": "code",
   "execution_count": null,
   "metadata": {
    "id": "BP31NY7VxGaT"
   },
   "outputs": [],
   "source": [
    "#compile the model\n",
    "model.compile(optimizer='adam',loss=\"binary_crossentropy\",metrics=['accuracy'])"
   ]
  },
  {
   "cell_type": "code",
   "execution_count": 26,
   "metadata": {
    "colab": {
     "base_uri": "https://localhost:8080/"
    },
    "id": "3Vb8fVVqxJjZ",
    "outputId": "f632407b-7d04-4eb3-98ab-ebb498f1053d"
   },
   "outputs": [
    {
     "name": "stdout",
     "output_type": "stream",
     "text": [
      "Epoch 1/100\n",
      "12439/12439 [==============================] - 35s 3ms/step - loss: 6.0932e-04 - accuracy: 0.9999 - val_loss: 3.0342 - val_accuracy: 0.9225\n",
      "Epoch 2/100\n",
      "12439/12439 [==============================] - 33s 3ms/step - loss: 7.4214e-04 - accuracy: 0.9999 - val_loss: 2.7694 - val_accuracy: 0.9325\n",
      "Epoch 3/100\n",
      "12439/12439 [==============================] - 29s 2ms/step - loss: 5.9847e-04 - accuracy: 0.9999 - val_loss: 2.8106 - val_accuracy: 0.9325\n",
      "Epoch 4/100\n",
      "12439/12439 [==============================] - 34s 3ms/step - loss: 6.8048e-04 - accuracy: 0.9999 - val_loss: 3.3167 - val_accuracy: 0.9257\n",
      "Epoch 5/100\n",
      "12439/12439 [==============================] - 34s 3ms/step - loss: 7.3409e-04 - accuracy: 0.9998 - val_loss: 3.3297 - val_accuracy: 0.9324\n",
      "Epoch 6/100\n",
      "12439/12439 [==============================] - 33s 3ms/step - loss: 4.5093e-04 - accuracy: 0.9999 - val_loss: 3.2703 - val_accuracy: 0.9325\n",
      "Epoch 7/100\n",
      "12439/12439 [==============================] - 29s 2ms/step - loss: 3.9248e-04 - accuracy: 0.9999 - val_loss: 3.3450 - val_accuracy: 0.9360\n",
      "Epoch 8/100\n",
      "12439/12439 [==============================] - 28s 2ms/step - loss: 5.0934e-04 - accuracy: 0.9999 - val_loss: 3.2382 - val_accuracy: 0.9324\n",
      "Epoch 9/100\n",
      "12439/12439 [==============================] - 28s 2ms/step - loss: 8.7889e-04 - accuracy: 0.9999 - val_loss: 3.4479 - val_accuracy: 0.9292\n",
      "Epoch 10/100\n",
      "12439/12439 [==============================] - 29s 2ms/step - loss: 6.0931e-04 - accuracy: 0.9999 - val_loss: 3.5552 - val_accuracy: 0.9327\n",
      "Epoch 11/100\n",
      "12439/12439 [==============================] - 28s 2ms/step - loss: 5.3289e-04 - accuracy: 0.9999 - val_loss: 3.4962 - val_accuracy: 0.9225\n",
      "Epoch 12/100\n",
      "12439/12439 [==============================] - 28s 2ms/step - loss: 6.4079e-04 - accuracy: 0.9999 - val_loss: 3.2743 - val_accuracy: 0.9358\n",
      "Epoch 13/100\n",
      "12439/12439 [==============================] - 29s 2ms/step - loss: 4.0911e-04 - accuracy: 0.9999 - val_loss: 3.7462 - val_accuracy: 0.9255\n",
      "Epoch 14/100\n",
      "12439/12439 [==============================] - 33s 3ms/step - loss: 7.0321e-04 - accuracy: 0.9999 - val_loss: 3.9795 - val_accuracy: 0.9325\n",
      "Epoch 15/100\n",
      "12439/12439 [==============================] - 33s 3ms/step - loss: 5.0640e-04 - accuracy: 0.9999 - val_loss: 4.0348 - val_accuracy: 0.9292\n",
      "Epoch 16/100\n",
      "12439/12439 [==============================] - 29s 2ms/step - loss: 5.1013e-04 - accuracy: 0.9999 - val_loss: 3.3000 - val_accuracy: 0.9256\n",
      "Epoch 17/100\n",
      "12439/12439 [==============================] - 34s 3ms/step - loss: 5.5717e-04 - accuracy: 0.9999 - val_loss: 4.1687 - val_accuracy: 0.9328\n",
      "Epoch 18/100\n",
      "12439/12439 [==============================] - 28s 2ms/step - loss: 6.9152e-04 - accuracy: 0.9999 - val_loss: 4.2640 - val_accuracy: 0.9291\n",
      "Epoch 19/100\n",
      "12439/12439 [==============================] - 28s 2ms/step - loss: 4.7895e-04 - accuracy: 0.9999 - val_loss: 4.5160 - val_accuracy: 0.9292\n",
      "Epoch 20/100\n",
      "12439/12439 [==============================] - 29s 2ms/step - loss: 7.1328e-04 - accuracy: 0.9999 - val_loss: 4.3208 - val_accuracy: 0.9361\n",
      "Epoch 21/100\n",
      "12439/12439 [==============================] - 33s 3ms/step - loss: 3.8472e-04 - accuracy: 0.9999 - val_loss: 4.7705 - val_accuracy: 0.9152\n",
      "Epoch 22/100\n",
      "12439/12439 [==============================] - 34s 3ms/step - loss: 4.3628e-04 - accuracy: 0.9999 - val_loss: 4.6710 - val_accuracy: 0.9189\n",
      "Epoch 23/100\n",
      "12439/12439 [==============================] - 33s 3ms/step - loss: 5.5367e-04 - accuracy: 0.9999 - val_loss: 5.1484 - val_accuracy: 0.9254\n",
      "Epoch 24/100\n",
      "12439/12439 [==============================] - 29s 2ms/step - loss: 5.1729e-04 - accuracy: 0.9999 - val_loss: 4.3827 - val_accuracy: 0.9256\n",
      "Epoch 25/100\n",
      "12439/12439 [==============================] - 34s 3ms/step - loss: 4.9941e-04 - accuracy: 0.9999 - val_loss: 4.8651 - val_accuracy: 0.9219\n",
      "Epoch 26/100\n",
      "12439/12439 [==============================] - 28s 2ms/step - loss: 5.0266e-04 - accuracy: 0.9999 - val_loss: 4.8421 - val_accuracy: 0.9293\n",
      "Epoch 27/100\n",
      "12439/12439 [==============================] - 33s 3ms/step - loss: 3.0726e-04 - accuracy: 0.9999 - val_loss: 4.5939 - val_accuracy: 0.9151\n",
      "Epoch 28/100\n",
      "12439/12439 [==============================] - 33s 3ms/step - loss: 2.7486e-04 - accuracy: 0.9999 - val_loss: 4.7083 - val_accuracy: 0.9157\n",
      "Epoch 29/100\n",
      "12439/12439 [==============================] - 33s 3ms/step - loss: 4.0469e-04 - accuracy: 0.9999 - val_loss: 5.0656 - val_accuracy: 0.9121\n",
      "Epoch 30/100\n",
      "12439/12439 [==============================] - 33s 3ms/step - loss: 4.6398e-04 - accuracy: 0.9999 - val_loss: 5.4270 - val_accuracy: 0.9157\n",
      "Epoch 31/100\n",
      "12439/12439 [==============================] - 28s 2ms/step - loss: 7.5172e-04 - accuracy: 0.9999 - val_loss: 5.1565 - val_accuracy: 0.9223\n",
      "Epoch 32/100\n",
      "12439/12439 [==============================] - 28s 2ms/step - loss: 2.7323e-04 - accuracy: 0.9999 - val_loss: 5.1175 - val_accuracy: 0.9260\n",
      "Epoch 33/100\n",
      "12439/12439 [==============================] - 33s 3ms/step - loss: 3.8646e-04 - accuracy: 0.9999 - val_loss: 5.2103 - val_accuracy: 0.9289\n",
      "Epoch 34/100\n",
      "12439/12439 [==============================] - 33s 3ms/step - loss: 3.3398e-04 - accuracy: 0.9999 - val_loss: 6.3192 - val_accuracy: 0.9256\n",
      "Epoch 35/100\n",
      "12439/12439 [==============================] - 28s 2ms/step - loss: 3.6999e-04 - accuracy: 1.0000 - val_loss: 6.4706 - val_accuracy: 0.9224\n",
      "Epoch 36/100\n",
      "12439/12439 [==============================] - 31s 3ms/step - loss: 3.7716e-04 - accuracy: 0.9999 - val_loss: 6.1744 - val_accuracy: 0.9258\n",
      "Epoch 37/100\n",
      "12439/12439 [==============================] - 29s 2ms/step - loss: 3.4396e-04 - accuracy: 0.9999 - val_loss: 6.3495 - val_accuracy: 0.9220\n",
      "Epoch 38/100\n",
      "12439/12439 [==============================] - 29s 2ms/step - loss: 5.3452e-04 - accuracy: 0.9999 - val_loss: 6.5933 - val_accuracy: 0.9253\n",
      "Epoch 39/100\n",
      "12439/12439 [==============================] - 29s 2ms/step - loss: 2.9946e-04 - accuracy: 1.0000 - val_loss: 6.7725 - val_accuracy: 0.9256\n",
      "Epoch 40/100\n",
      "12439/12439 [==============================] - 28s 2ms/step - loss: 3.0991e-04 - accuracy: 0.9999 - val_loss: 7.2887 - val_accuracy: 0.9221\n",
      "Epoch 41/100\n",
      "12439/12439 [==============================] - 29s 2ms/step - loss: 2.8245e-04 - accuracy: 0.9999 - val_loss: 6.6907 - val_accuracy: 0.9190\n",
      "Epoch 42/100\n",
      "12439/12439 [==============================] - 33s 3ms/step - loss: 3.5666e-04 - accuracy: 0.9999 - val_loss: 6.3766 - val_accuracy: 0.9194\n",
      "Epoch 43/100\n",
      "12439/12439 [==============================] - 29s 2ms/step - loss: 5.2129e-04 - accuracy: 0.9999 - val_loss: 6.3864 - val_accuracy: 0.9189\n",
      "Epoch 44/100\n",
      "12439/12439 [==============================] - 33s 3ms/step - loss: 2.7034e-04 - accuracy: 0.9999 - val_loss: 7.1769 - val_accuracy: 0.9151\n",
      "Epoch 45/100\n",
      "12439/12439 [==============================] - 33s 3ms/step - loss: 3.1580e-04 - accuracy: 0.9999 - val_loss: 7.3435 - val_accuracy: 0.9220\n",
      "Epoch 46/100\n",
      "12439/12439 [==============================] - 33s 3ms/step - loss: 2.8811e-04 - accuracy: 0.9999 - val_loss: 7.5636 - val_accuracy: 0.9259\n",
      "Epoch 47/100\n",
      "12439/12439 [==============================] - 33s 3ms/step - loss: 6.1121e-04 - accuracy: 0.9999 - val_loss: 7.2017 - val_accuracy: 0.9295\n",
      "Epoch 48/100\n",
      "12439/12439 [==============================] - 30s 2ms/step - loss: 3.7815e-04 - accuracy: 0.9999 - val_loss: 7.3548 - val_accuracy: 0.9222\n",
      "Epoch 49/100\n",
      "12439/12439 [==============================] - 28s 2ms/step - loss: 3.2283e-04 - accuracy: 0.9999 - val_loss: 7.4297 - val_accuracy: 0.9190\n",
      "Epoch 50/100\n",
      "12439/12439 [==============================] - 33s 3ms/step - loss: 3.1137e-04 - accuracy: 0.9999 - val_loss: 8.1905 - val_accuracy: 0.9187\n",
      "Epoch 51/100\n",
      "12439/12439 [==============================] - 34s 3ms/step - loss: 3.8792e-04 - accuracy: 0.9999 - val_loss: 7.7806 - val_accuracy: 0.9151\n",
      "Epoch 52/100\n",
      "12439/12439 [==============================] - 29s 2ms/step - loss: 2.9305e-04 - accuracy: 0.9999 - val_loss: 7.8713 - val_accuracy: 0.9255\n",
      "Epoch 53/100\n",
      "12439/12439 [==============================] - 33s 3ms/step - loss: 2.1381e-04 - accuracy: 1.0000 - val_loss: 8.4529 - val_accuracy: 0.9120\n",
      "Epoch 54/100\n",
      "12439/12439 [==============================] - 29s 2ms/step - loss: 1.2642e-04 - accuracy: 1.0000 - val_loss: 7.9112 - val_accuracy: 0.9190\n",
      "Epoch 55/100\n",
      "12439/12439 [==============================] - 29s 2ms/step - loss: 6.3959e-04 - accuracy: 0.9999 - val_loss: 7.9717 - val_accuracy: 0.9260\n",
      "Epoch 56/100\n",
      "12439/12439 [==============================] - 29s 2ms/step - loss: 4.2665e-04 - accuracy: 0.9999 - val_loss: 7.8408 - val_accuracy: 0.9222\n",
      "Epoch 57/100\n",
      "12439/12439 [==============================] - 33s 3ms/step - loss: 2.8561e-04 - accuracy: 1.0000 - val_loss: 8.5003 - val_accuracy: 0.9117\n",
      "Epoch 58/100\n",
      "12439/12439 [==============================] - 29s 2ms/step - loss: 1.9324e-04 - accuracy: 1.0000 - val_loss: 8.8249 - val_accuracy: 0.9153\n",
      "Epoch 59/100\n",
      "12439/12439 [==============================] - 33s 3ms/step - loss: 3.3246e-04 - accuracy: 1.0000 - val_loss: 8.8868 - val_accuracy: 0.9050\n",
      "Epoch 60/100\n",
      "12439/12439 [==============================] - 29s 2ms/step - loss: 5.1907e-04 - accuracy: 0.9999 - val_loss: 9.5291 - val_accuracy: 0.9190\n",
      "Epoch 61/100\n",
      "12439/12439 [==============================] - 34s 3ms/step - loss: 2.8314e-04 - accuracy: 1.0000 - val_loss: 8.1253 - val_accuracy: 0.9191\n",
      "Epoch 62/100\n",
      "12439/12439 [==============================] - 33s 3ms/step - loss: 4.4635e-04 - accuracy: 0.9999 - val_loss: 8.7792 - val_accuracy: 0.9157\n",
      "Epoch 63/100\n",
      "12439/12439 [==============================] - 33s 3ms/step - loss: 3.3243e-04 - accuracy: 0.9999 - val_loss: 9.3101 - val_accuracy: 0.9223\n",
      "Epoch 64/100\n",
      "12439/12439 [==============================] - 33s 3ms/step - loss: 2.9305e-04 - accuracy: 1.0000 - val_loss: 9.4568 - val_accuracy: 0.9225\n",
      "Epoch 65/100\n",
      "12439/12439 [==============================] - 29s 2ms/step - loss: 2.5632e-04 - accuracy: 1.0000 - val_loss: 9.6426 - val_accuracy: 0.9263\n",
      "Epoch 66/100\n",
      "12439/12439 [==============================] - 29s 2ms/step - loss: 3.2544e-04 - accuracy: 0.9999 - val_loss: 9.8884 - val_accuracy: 0.9155\n",
      "Epoch 67/100\n",
      "12439/12439 [==============================] - 28s 2ms/step - loss: 3.3409e-04 - accuracy: 1.0000 - val_loss: 9.8028 - val_accuracy: 0.9223\n",
      "Epoch 68/100\n",
      "12439/12439 [==============================] - 33s 3ms/step - loss: 4.3758e-04 - accuracy: 0.9999 - val_loss: 9.2804 - val_accuracy: 0.9188\n",
      "Epoch 69/100\n",
      "12439/12439 [==============================] - 28s 2ms/step - loss: 2.7192e-04 - accuracy: 0.9999 - val_loss: 9.2576 - val_accuracy: 0.9255\n",
      "Epoch 70/100\n",
      "12439/12439 [==============================] - 34s 3ms/step - loss: 1.8785e-04 - accuracy: 1.0000 - val_loss: 8.4861 - val_accuracy: 0.9154\n",
      "Epoch 71/100\n",
      "12439/12439 [==============================] - 28s 2ms/step - loss: 4.2119e-04 - accuracy: 0.9999 - val_loss: 10.2451 - val_accuracy: 0.9017\n",
      "Epoch 72/100\n",
      "12439/12439 [==============================] - 33s 3ms/step - loss: 4.3608e-04 - accuracy: 1.0000 - val_loss: 10.0125 - val_accuracy: 0.9190\n",
      "Epoch 73/100\n",
      "12439/12439 [==============================] - 29s 2ms/step - loss: 3.1286e-04 - accuracy: 0.9999 - val_loss: 9.2381 - val_accuracy: 0.9223\n",
      "Epoch 74/100\n",
      "12439/12439 [==============================] - 32s 3ms/step - loss: 5.0473e-04 - accuracy: 1.0000 - val_loss: 9.8658 - val_accuracy: 0.9258\n",
      "Epoch 75/100\n",
      "12439/12439 [==============================] - 36s 3ms/step - loss: 3.3796e-04 - accuracy: 0.9999 - val_loss: 9.8324 - val_accuracy: 0.9192\n",
      "Epoch 76/100\n",
      "12439/12439 [==============================] - 32s 3ms/step - loss: 3.8859e-04 - accuracy: 0.9999 - val_loss: 10.3171 - val_accuracy: 0.9190\n",
      "Epoch 77/100\n",
      "12439/12439 [==============================] - 32s 3ms/step - loss: 1.2882e-04 - accuracy: 1.0000 - val_loss: 10.6523 - val_accuracy: 0.9190\n",
      "Epoch 78/100\n",
      "12439/12439 [==============================] - 38s 3ms/step - loss: 3.3919e-04 - accuracy: 1.0000 - val_loss: 10.8574 - val_accuracy: 0.9293\n",
      "Epoch 79/100\n",
      "12439/12439 [==============================] - 33s 3ms/step - loss: 2.8741e-04 - accuracy: 1.0000 - val_loss: 10.8660 - val_accuracy: 0.9120\n",
      "Epoch 80/100\n",
      "12439/12439 [==============================] - 36s 3ms/step - loss: 2.2960e-04 - accuracy: 1.0000 - val_loss: 10.4178 - val_accuracy: 0.9183\n",
      "Epoch 81/100\n",
      "12439/12439 [==============================] - 37s 3ms/step - loss: 3.2599e-04 - accuracy: 0.9999 - val_loss: 10.1392 - val_accuracy: 0.9223\n",
      "Epoch 82/100\n",
      "12439/12439 [==============================] - 37s 3ms/step - loss: 3.2938e-04 - accuracy: 1.0000 - val_loss: 10.7341 - val_accuracy: 0.9120\n",
      "Epoch 83/100\n",
      "12439/12439 [==============================] - 31s 3ms/step - loss: 2.9426e-04 - accuracy: 1.0000 - val_loss: 11.8414 - val_accuracy: 0.9187\n",
      "Epoch 84/100\n",
      "12439/12439 [==============================] - 31s 2ms/step - loss: 4.6360e-04 - accuracy: 1.0000 - val_loss: 11.9371 - val_accuracy: 0.9056\n",
      "Epoch 85/100\n",
      "12439/12439 [==============================] - 30s 2ms/step - loss: 3.8532e-04 - accuracy: 1.0000 - val_loss: 10.6815 - val_accuracy: 0.9194\n",
      "Epoch 86/100\n",
      "12439/12439 [==============================] - 30s 2ms/step - loss: 5.4815e-04 - accuracy: 0.9999 - val_loss: 11.5650 - val_accuracy: 0.9124\n",
      "Epoch 87/100\n",
      "12439/12439 [==============================] - 30s 2ms/step - loss: 3.4282e-04 - accuracy: 0.9999 - val_loss: 11.7243 - val_accuracy: 0.9190\n",
      "Epoch 88/100\n",
      "12439/12439 [==============================] - 30s 2ms/step - loss: 4.0967e-04 - accuracy: 1.0000 - val_loss: 10.6765 - val_accuracy: 0.9357\n",
      "Epoch 89/100\n",
      "12439/12439 [==============================] - 30s 2ms/step - loss: 3.1560e-04 - accuracy: 1.0000 - val_loss: 11.7230 - val_accuracy: 0.9226\n",
      "Epoch 90/100\n",
      "12439/12439 [==============================] - 34s 3ms/step - loss: 1.8405e-04 - accuracy: 1.0000 - val_loss: 11.6170 - val_accuracy: 0.9325\n",
      "Epoch 91/100\n",
      "12439/12439 [==============================] - 29s 2ms/step - loss: 7.1297e-04 - accuracy: 0.9999 - val_loss: 11.9702 - val_accuracy: 0.9156\n",
      "Epoch 92/100\n",
      "12439/12439 [==============================] - 34s 3ms/step - loss: 3.6946e-04 - accuracy: 1.0000 - val_loss: 11.5693 - val_accuracy: 0.9189\n",
      "Epoch 93/100\n",
      "12439/12439 [==============================] - 34s 3ms/step - loss: 1.8096e-04 - accuracy: 1.0000 - val_loss: 12.3806 - val_accuracy: 0.9153\n",
      "Epoch 94/100\n",
      "12439/12439 [==============================] - 35s 3ms/step - loss: 2.2615e-04 - accuracy: 1.0000 - val_loss: 13.2306 - val_accuracy: 0.9221\n",
      "Epoch 95/100\n",
      "12439/12439 [==============================] - 34s 3ms/step - loss: 6.8141e-04 - accuracy: 0.9999 - val_loss: 13.0148 - val_accuracy: 0.9085\n",
      "Epoch 96/100\n",
      "12439/12439 [==============================] - 36s 3ms/step - loss: 2.7547e-04 - accuracy: 1.0000 - val_loss: 12.8935 - val_accuracy: 0.9290\n",
      "Epoch 97/100\n",
      "12439/12439 [==============================] - 34s 3ms/step - loss: 4.6544e-04 - accuracy: 0.9999 - val_loss: 12.9704 - val_accuracy: 0.9223\n",
      "Epoch 98/100\n",
      "12439/12439 [==============================] - 29s 2ms/step - loss: 2.9226e-04 - accuracy: 1.0000 - val_loss: 14.1726 - val_accuracy: 0.9257\n",
      "Epoch 99/100\n",
      "12439/12439 [==============================] - 34s 3ms/step - loss: 4.6696e-04 - accuracy: 1.0000 - val_loss: 14.1314 - val_accuracy: 0.9156\n",
      "Epoch 100/100\n",
      "12439/12439 [==============================] - 34s 3ms/step - loss: 1.5924e-04 - accuracy: 1.0000 - val_loss: 13.8364 - val_accuracy: 0.9190\n"
     ]
    }
   ],
   "source": [
    "trained_model=model.fit(X_train_ros,Y_train_ros,epochs=100,batch_size=32,validation_data=(X_test_ros,Y_test_ros))\n"
   ]
  },
  {
   "cell_type": "code",
   "execution_count": 27,
   "metadata": {
    "colab": {
     "base_uri": "https://localhost:8080/",
     "height": 294
    },
    "id": "hrU8DJovxPCT",
    "outputId": "4b5c8605-6b1e-4649-e417-9d9d9bc03c8e"
   },
   "outputs": [
    {
     "data": {
      "image/png": "[encoded data removed]",
      "text/plain": [
       "<Figure size 432x288 with 1 Axes>"
      ]
     },
     "metadata": {
      "needs_background": "light"
     },
     "output_type": "display_data"
    }
   ],
   "source": [
    "#visualization training error and testing\n",
    "plt.plot(trained_model.history[\"loss\"])  #training's loss meams error\n",
    "plt.plot(trained_model.history[\"val_loss\"])  #testing's loss means error\n",
    "plt.title(\"Model Loss\")\n",
    "plt.ylabel('Loss')\n",
    "plt.xlabel('Epoch')\n",
    "plt.legend(['Train','Val means test'],loc='upper right')  #loc means loacation\n",
    "\n",
    "plt.show()"
   ]
  },
  {
   "cell_type": "code",
   "execution_count": 28,
   "metadata": {
    "colab": {
     "base_uri": "https://localhost:8080/"
    },
    "id": "9u1IO79f_9ca",
    "outputId": "633d2227-af28-40f1-b231-65d2a3daa536"
   },
   "outputs": [
    {
     "name": "stdout",
     "output_type": "stream",
     "text": [
      "12439/12439 [==============================] - 25s 2ms/step - loss: 7.4222e-05 - accuracy: 1.0000\n"
     ]
    },
    {
     "data": {
      "text/plain": [
       "[7.422242197208107e-05, 0.999989926815033]"
      ]
     },
     "execution_count": 28,
     "metadata": {},
     "output_type": "execute_result"
    }
   ],
   "source": [
    "#check the loss and score on training time\n",
    "model.evaluate(X_train_ros,Y_train_ros)"
   ]
  },
  {
   "cell_type": "code",
   "execution_count": 29,
   "metadata": {
    "colab": {
     "base_uri": "https://localhost:8080/"
    },
    "id": "Jkx7rcgE_9-9",
    "outputId": "e36b3ff0-9baf-45f2-8037-f538ebcb22b6"
   },
   "outputs": [
    {
     "name": "stdout",
     "output_type": "stream",
     "text": [
      "5331/5331 [==============================] - 7s 1ms/step - loss: 13.8364 - accuracy: 0.9190\n"
     ]
    },
    {
     "data": {
      "text/plain": [
       "[13.836418151855469, 0.9189929366111755]"
      ]
     },
     "execution_count": 29,
     "metadata": {},
     "output_type": "execute_result"
    }
   ],
   "source": [
    "#check the loss and score on training time\n",
    "model.evaluate(X_test_ros,Y_test_ros)"
   ]
  },
  {
   "cell_type": "code",
   "execution_count": 30,
   "metadata": {
    "colab": {
     "base_uri": "https://localhost:8080/",
     "height": 294
    },
    "id": "PsVYg6cSAAy6",
    "outputId": "cdd1d90e-a090-4fd7-90bc-59e93fe35be8"
   },
   "outputs": [
    {
     "data": {
      "image/png": "[encoded data removed]",
      "text/plain": [
       "<Figure size 432x288 with 1 Axes>"
      ]
     },
     "metadata": {
      "needs_background": "light"
     },
     "output_type": "display_data"
    }
   ],
   "source": [
    "#visualization training score and testing score\n",
    "plt.plot(trained_model.history[\"accuracy\"])  #training's loss meams error\n",
    "plt.plot(trained_model.history[\"val_accuracy\"])  #testing's loss means error\n",
    "plt.title(\"Model Accuracy\")\n",
    "plt.ylabel('Accuracy')\n",
    "plt.xlabel('Epoch')\n",
    "plt.legend(['Train','Val means test'],loc='upper right')  #loc means loacation\n",
    "\n",
    "plt.show()"
   ]
  },
  {
   "cell_type": "code",
   "execution_count": 31,
   "metadata": {
    "id": "xPl1iQlLAJG_"
   },
   "outputs": [],
   "source": [
    "#here model is overfit, to reduced overfit situation thn apply regularisation\n",
    "#means to add external error on traing time\n",
    "#here training score>testing score(model is overfit)\n",
    "#create a nerual network (NN) after adding error(regularisation)\n",
    "from keras import regularizers\n",
    "#create object of squential class \n",
    "model1=tf.keras.Sequential([\n",
    "                           tf.keras.layers.Dense(64,activation=\"relu\",\n",
    "                                                 kernel_regularizer=regularizers.l2(0.01),\n",
    "                                                 input_shape=(X.shape[1],)),\n",
    "                           #hidden layer1\n",
    "                           tf.keras.layers.Dense(64,activation=\"relu\",\n",
    "                                                 kernel_regularizer=regularizers.l2(0.01)),\n",
    "                            #hidden layers2\n",
    "                           tf.keras.layers.Dense(1,activation=\"sigmoid\",\n",
    "                                                kernel_regularizer=regularizers.l2(0.01))  #output layer\n",
    "                           ])"
   ]
  },
  {
   "cell_type": "code",
   "execution_count": 32,
   "metadata": {
    "id": "SPJf-4KlAMCu"
   },
   "outputs": [],
   "source": [
    "model1.compile(optimizer='adam',loss=\"binary_crossentropy\",metrics=['accuracy'])"
   ]
  },
  {
   "cell_type": "code",
   "execution_count": 33,
   "metadata": {
    "colab": {
     "base_uri": "https://localhost:8080/"
    },
    "id": "JllgubDtAOqX",
    "outputId": "4bfba715-9c5b-48e6-d80e-a489ea7bdaf0"
   },
   "outputs": [
    {
     "name": "stdout",
     "output_type": "stream",
     "text": [
      "Epoch 1/100\n",
      "12439/12439 [==============================] - 37s 3ms/step - loss: 0.2023 - accuracy: 0.9476 - val_loss: 0.1896 - val_accuracy: 0.9491\n",
      "Epoch 2/100\n",
      "12439/12439 [==============================] - 30s 2ms/step - loss: 0.1856 - accuracy: 0.9478 - val_loss: 0.1881 - val_accuracy: 0.9475\n",
      "Epoch 3/100\n",
      "12439/12439 [==============================] - 34s 3ms/step - loss: 0.1852 - accuracy: 0.9478 - val_loss: 0.1859 - val_accuracy: 0.9488\n",
      "Epoch 4/100\n",
      "12439/12439 [==============================] - 30s 2ms/step - loss: 0.1849 - accuracy: 0.9480 - val_loss: 0.1873 - val_accuracy: 0.9509\n",
      "Epoch 5/100\n",
      "12439/12439 [==============================] - 29s 2ms/step - loss: 0.1847 - accuracy: 0.9481 - val_loss: 0.1837 - val_accuracy: 0.9501\n",
      "Epoch 6/100\n",
      "12439/12439 [==============================] - 32s 3ms/step - loss: 0.1846 - accuracy: 0.9482 - val_loss: 0.1869 - val_accuracy: 0.9514\n",
      "Epoch 7/100\n",
      "12439/12439 [==============================] - 34s 3ms/step - loss: 0.1845 - accuracy: 0.9484 - val_loss: 0.1859 - val_accuracy: 0.9502\n",
      "Epoch 8/100\n",
      "12439/12439 [==============================] - 34s 3ms/step - loss: 0.1845 - accuracy: 0.9487 - val_loss: 0.1839 - val_accuracy: 0.9518\n",
      "Epoch 9/100\n",
      "12439/12439 [==============================] - 34s 3ms/step - loss: 0.1846 - accuracy: 0.9486 - val_loss: 0.1843 - val_accuracy: 0.9521\n",
      "Epoch 10/100\n",
      "12439/12439 [==============================] - 30s 2ms/step - loss: 0.1844 - accuracy: 0.9487 - val_loss: 0.1912 - val_accuracy: 0.9491\n",
      "Epoch 11/100\n",
      "12439/12439 [==============================] - 30s 2ms/step - loss: 0.1844 - accuracy: 0.9487 - val_loss: 0.1824 - val_accuracy: 0.9523\n",
      "Epoch 12/100\n",
      "12439/12439 [==============================] - 35s 3ms/step - loss: 0.1844 - accuracy: 0.9485 - val_loss: 0.1829 - val_accuracy: 0.9503\n",
      "Epoch 13/100\n",
      "12439/12439 [==============================] - 34s 3ms/step - loss: 0.1844 - accuracy: 0.9486 - val_loss: 0.1831 - val_accuracy: 0.9516\n",
      "Epoch 14/100\n",
      "12439/12439 [==============================] - 30s 2ms/step - loss: 0.1844 - accuracy: 0.9488 - val_loss: 0.1862 - val_accuracy: 0.9516\n",
      "Epoch 15/100\n",
      "12439/12439 [==============================] - 34s 3ms/step - loss: 0.1844 - accuracy: 0.9486 - val_loss: 0.1875 - val_accuracy: 0.9469\n",
      "Epoch 16/100\n",
      "12439/12439 [==============================] - 29s 2ms/step - loss: 0.1844 - accuracy: 0.9486 - val_loss: 0.1814 - val_accuracy: 0.9509\n",
      "Epoch 17/100\n",
      "12439/12439 [==============================] - 29s 2ms/step - loss: 0.1843 - accuracy: 0.9487 - val_loss: 0.1891 - val_accuracy: 0.9513\n",
      "Epoch 18/100\n",
      "12439/12439 [==============================] - 34s 3ms/step - loss: 0.1843 - accuracy: 0.9489 - val_loss: 0.1865 - val_accuracy: 0.9528\n",
      "Epoch 19/100\n",
      "12439/12439 [==============================] - 34s 3ms/step - loss: 0.1844 - accuracy: 0.9487 - val_loss: 0.1865 - val_accuracy: 0.9528\n",
      "Epoch 20/100\n",
      "12439/12439 [==============================] - 31s 2ms/step - loss: 0.1843 - accuracy: 0.9487 - val_loss: 0.1864 - val_accuracy: 0.9512\n",
      "Epoch 21/100\n",
      "12439/12439 [==============================] - 34s 3ms/step - loss: 0.1843 - accuracy: 0.9488 - val_loss: 0.1859 - val_accuracy: 0.9481\n",
      "Epoch 22/100\n",
      "12439/12439 [==============================] - 35s 3ms/step - loss: 0.1844 - accuracy: 0.9487 - val_loss: 0.1849 - val_accuracy: 0.9529\n",
      "Epoch 23/100\n",
      "12439/12439 [==============================] - 31s 2ms/step - loss: 0.1843 - accuracy: 0.9487 - val_loss: 0.1834 - val_accuracy: 0.9533\n",
      "Epoch 24/100\n",
      "12439/12439 [==============================] - 30s 2ms/step - loss: 0.1843 - accuracy: 0.9487 - val_loss: 0.1865 - val_accuracy: 0.9521\n",
      "Epoch 25/100\n",
      "12439/12439 [==============================] - 34s 3ms/step - loss: 0.1842 - accuracy: 0.9488 - val_loss: 0.1849 - val_accuracy: 0.9514\n",
      "Epoch 26/100\n",
      "12439/12439 [==============================] - 34s 3ms/step - loss: 0.1842 - accuracy: 0.9486 - val_loss: 0.1855 - val_accuracy: 0.9531\n",
      "Epoch 27/100\n",
      "12439/12439 [==============================] - 29s 2ms/step - loss: 0.1842 - accuracy: 0.9486 - val_loss: 0.1854 - val_accuracy: 0.9530\n",
      "Epoch 28/100\n",
      "12439/12439 [==============================] - 31s 2ms/step - loss: 0.1843 - accuracy: 0.9487 - val_loss: 0.1905 - val_accuracy: 0.9496\n",
      "Epoch 29/100\n",
      "12439/12439 [==============================] - 35s 3ms/step - loss: 0.1843 - accuracy: 0.9487 - val_loss: 0.1861 - val_accuracy: 0.9526\n",
      "Epoch 30/100\n",
      "12439/12439 [==============================] - 34s 3ms/step - loss: 0.1842 - accuracy: 0.9488 - val_loss: 0.1869 - val_accuracy: 0.9494\n",
      "Epoch 31/100\n",
      "12439/12439 [==============================] - 35s 3ms/step - loss: 0.1842 - accuracy: 0.9488 - val_loss: 0.1866 - val_accuracy: 0.9503\n",
      "Epoch 32/100\n",
      "12439/12439 [==============================] - 31s 2ms/step - loss: 0.1842 - accuracy: 0.9490 - val_loss: 0.1856 - val_accuracy: 0.9517\n",
      "Epoch 33/100\n",
      "12439/12439 [==============================] - 31s 2ms/step - loss: 0.1842 - accuracy: 0.9488 - val_loss: 0.1855 - val_accuracy: 0.9501\n",
      "Epoch 34/100\n",
      "12439/12439 [==============================] - 48s 4ms/step - loss: 0.1842 - accuracy: 0.9488 - val_loss: 0.1886 - val_accuracy: 0.9449\n",
      "Epoch 35/100\n",
      "12439/12439 [==============================] - 38s 3ms/step - loss: 0.1842 - accuracy: 0.9487 - val_loss: 0.1883 - val_accuracy: 0.9485\n",
      "Epoch 36/100\n",
      "12439/12439 [==============================] - 30s 2ms/step - loss: 0.1842 - accuracy: 0.9487 - val_loss: 0.1847 - val_accuracy: 0.9517\n",
      "Epoch 37/100\n",
      "12439/12439 [==============================] - 34s 3ms/step - loss: 0.1843 - accuracy: 0.9488 - val_loss: 0.1873 - val_accuracy: 0.9506\n",
      "Epoch 38/100\n",
      "12439/12439 [==============================] - 35s 3ms/step - loss: 0.1842 - accuracy: 0.9486 - val_loss: 0.1846 - val_accuracy: 0.9511\n",
      "Epoch 39/100\n",
      "12439/12439 [==============================] - 30s 2ms/step - loss: 0.1841 - accuracy: 0.9486 - val_loss: 0.1850 - val_accuracy: 0.9544\n",
      "Epoch 40/100\n",
      "12439/12439 [==============================] - 35s 3ms/step - loss: 0.1842 - accuracy: 0.9489 - val_loss: 0.1846 - val_accuracy: 0.9519\n",
      "Epoch 41/100\n",
      "12439/12439 [==============================] - 35s 3ms/step - loss: 0.1842 - accuracy: 0.9487 - val_loss: 0.1867 - val_accuracy: 0.9435\n",
      "Epoch 42/100\n",
      "12439/12439 [==============================] - 34s 3ms/step - loss: 0.1842 - accuracy: 0.9487 - val_loss: 0.1860 - val_accuracy: 0.9512\n",
      "Epoch 43/100\n",
      "12439/12439 [==============================] - 48s 4ms/step - loss: 0.1842 - accuracy: 0.9491 - val_loss: 0.1861 - val_accuracy: 0.9511\n",
      "Epoch 44/100\n",
      "12439/12439 [==============================] - 34s 3ms/step - loss: 0.1842 - accuracy: 0.9488 - val_loss: 0.1863 - val_accuracy: 0.9523\n",
      "Epoch 45/100\n",
      "12439/12439 [==============================] - 34s 3ms/step - loss: 0.1841 - accuracy: 0.9489 - val_loss: 0.1878 - val_accuracy: 0.9508\n",
      "Epoch 46/100\n",
      "12439/12439 [==============================] - 34s 3ms/step - loss: 0.1842 - accuracy: 0.9486 - val_loss: 0.1865 - val_accuracy: 0.9518\n",
      "Epoch 47/100\n",
      "12439/12439 [==============================] - 32s 3ms/step - loss: 0.1842 - accuracy: 0.9488 - val_loss: 0.1883 - val_accuracy: 0.9491\n",
      "Epoch 48/100\n",
      "12439/12439 [==============================] - 29s 2ms/step - loss: 0.1841 - accuracy: 0.9486 - val_loss: 0.1879 - val_accuracy: 0.9505\n",
      "Epoch 49/100\n",
      "12439/12439 [==============================] - 31s 2ms/step - loss: 0.1842 - accuracy: 0.9487 - val_loss: 0.1848 - val_accuracy: 0.9508\n",
      "Epoch 50/100\n",
      "12439/12439 [==============================] - 30s 2ms/step - loss: 0.1841 - accuracy: 0.9487 - val_loss: 0.1874 - val_accuracy: 0.9497\n",
      "Epoch 51/100\n",
      "12439/12439 [==============================] - 34s 3ms/step - loss: 0.1841 - accuracy: 0.9488 - val_loss: 0.1886 - val_accuracy: 0.9480\n",
      "Epoch 52/100\n",
      "12439/12439 [==============================] - 30s 2ms/step - loss: 0.1841 - accuracy: 0.9488 - val_loss: 0.1878 - val_accuracy: 0.9493\n",
      "Epoch 53/100\n",
      "12439/12439 [==============================] - 34s 3ms/step - loss: 0.1842 - accuracy: 0.9487 - val_loss: 0.1875 - val_accuracy: 0.9515\n",
      "Epoch 54/100\n",
      "12439/12439 [==============================] - 34s 3ms/step - loss: 0.1842 - accuracy: 0.9488 - val_loss: 0.1841 - val_accuracy: 0.9494\n",
      "Epoch 55/100\n",
      "12439/12439 [==============================] - 30s 2ms/step - loss: 0.1841 - accuracy: 0.9487 - val_loss: 0.1834 - val_accuracy: 0.9522\n",
      "Epoch 56/100\n",
      "12439/12439 [==============================] - 34s 3ms/step - loss: 0.1842 - accuracy: 0.9488 - val_loss: 0.1856 - val_accuracy: 0.9437\n",
      "Epoch 57/100\n",
      "12439/12439 [==============================] - 30s 2ms/step - loss: 0.1841 - accuracy: 0.9489 - val_loss: 0.1864 - val_accuracy: 0.9525\n",
      "Epoch 58/100\n",
      "12439/12439 [==============================] - 34s 3ms/step - loss: 0.1841 - accuracy: 0.9488 - val_loss: 0.1856 - val_accuracy: 0.9497\n",
      "Epoch 59/100\n",
      "12439/12439 [==============================] - 30s 2ms/step - loss: 0.1842 - accuracy: 0.9489 - val_loss: 0.1859 - val_accuracy: 0.9502\n",
      "Epoch 60/100\n",
      "12439/12439 [==============================] - 30s 2ms/step - loss: 0.1841 - accuracy: 0.9490 - val_loss: 0.1832 - val_accuracy: 0.9520\n",
      "Epoch 61/100\n",
      "12439/12439 [==============================] - 30s 2ms/step - loss: 0.1841 - accuracy: 0.9489 - val_loss: 0.1845 - val_accuracy: 0.9502\n",
      "Epoch 62/100\n",
      "12439/12439 [==============================] - 34s 3ms/step - loss: 0.1841 - accuracy: 0.9486 - val_loss: 0.1865 - val_accuracy: 0.9507\n",
      "Epoch 63/100\n",
      "12439/12439 [==============================] - 31s 2ms/step - loss: 0.1841 - accuracy: 0.9489 - val_loss: 0.1863 - val_accuracy: 0.9504\n",
      "Epoch 64/100\n",
      "12439/12439 [==============================] - 32s 3ms/step - loss: 0.1841 - accuracy: 0.9488 - val_loss: 0.1888 - val_accuracy: 0.9489\n",
      "Epoch 65/100\n",
      "12439/12439 [==============================] - 34s 3ms/step - loss: 0.1841 - accuracy: 0.9487 - val_loss: 0.1852 - val_accuracy: 0.9504\n",
      "Epoch 66/100\n",
      "12439/12439 [==============================] - 34s 3ms/step - loss: 0.1841 - accuracy: 0.9488 - val_loss: 0.1842 - val_accuracy: 0.9511\n",
      "Epoch 67/100\n",
      "12439/12439 [==============================] - 30s 2ms/step - loss: 0.1841 - accuracy: 0.9487 - val_loss: 0.1865 - val_accuracy: 0.9509\n",
      "Epoch 68/100\n",
      "12439/12439 [==============================] - 30s 2ms/step - loss: 0.1841 - accuracy: 0.9486 - val_loss: 0.1880 - val_accuracy: 0.9518\n",
      "Epoch 69/100\n",
      "12439/12439 [==============================] - 34s 3ms/step - loss: 0.1841 - accuracy: 0.9487 - val_loss: 0.1838 - val_accuracy: 0.9541\n",
      "Epoch 70/100\n",
      "12439/12439 [==============================] - 31s 2ms/step - loss: 0.1841 - accuracy: 0.9487 - val_loss: 0.1856 - val_accuracy: 0.9532\n",
      "Epoch 71/100\n",
      "12439/12439 [==============================] - 30s 2ms/step - loss: 0.1841 - accuracy: 0.9488 - val_loss: 0.1835 - val_accuracy: 0.9517\n",
      "Epoch 72/100\n",
      "12439/12439 [==============================] - 30s 2ms/step - loss: 0.1841 - accuracy: 0.9487 - val_loss: 0.1865 - val_accuracy: 0.9504\n",
      "Epoch 73/100\n",
      "12439/12439 [==============================] - 35s 3ms/step - loss: 0.1841 - accuracy: 0.9488 - val_loss: 0.1875 - val_accuracy: 0.9502\n",
      "Epoch 74/100\n",
      "12439/12439 [==============================] - 34s 3ms/step - loss: 0.1841 - accuracy: 0.9488 - val_loss: 0.1853 - val_accuracy: 0.9535\n",
      "Epoch 75/100\n",
      "12439/12439 [==============================] - 31s 2ms/step - loss: 0.1841 - accuracy: 0.9487 - val_loss: 0.1898 - val_accuracy: 0.9500\n",
      "Epoch 76/100\n",
      "12439/12439 [==============================] - 34s 3ms/step - loss: 0.1841 - accuracy: 0.9488 - val_loss: 0.1865 - val_accuracy: 0.9530\n",
      "Epoch 77/100\n",
      "12439/12439 [==============================] - 35s 3ms/step - loss: 0.1840 - accuracy: 0.9488 - val_loss: 0.1876 - val_accuracy: 0.9507\n",
      "Epoch 78/100\n",
      "12439/12439 [==============================] - 30s 2ms/step - loss: 0.1840 - accuracy: 0.9489 - val_loss: 0.1859 - val_accuracy: 0.9519\n",
      "Epoch 79/100\n",
      "12439/12439 [==============================] - 30s 2ms/step - loss: 0.1841 - accuracy: 0.9488 - val_loss: 0.1883 - val_accuracy: 0.9483\n",
      "Epoch 80/100\n",
      "12439/12439 [==============================] - 35s 3ms/step - loss: 0.1841 - accuracy: 0.9487 - val_loss: 0.1859 - val_accuracy: 0.9501\n",
      "Epoch 81/100\n",
      "12439/12439 [==============================] - 30s 2ms/step - loss: 0.1841 - accuracy: 0.9488 - val_loss: 0.1875 - val_accuracy: 0.9496\n",
      "Epoch 82/100\n",
      "12439/12439 [==============================] - 30s 2ms/step - loss: 0.1840 - accuracy: 0.9489 - val_loss: 0.1872 - val_accuracy: 0.9442\n",
      "Epoch 83/100\n",
      "12439/12439 [==============================] - 31s 2ms/step - loss: 0.1840 - accuracy: 0.9487 - val_loss: 0.1864 - val_accuracy: 0.9528\n",
      "Epoch 84/100\n",
      "12439/12439 [==============================] - 31s 2ms/step - loss: 0.1840 - accuracy: 0.9487 - val_loss: 0.1868 - val_accuracy: 0.9485\n",
      "Epoch 85/100\n",
      "12439/12439 [==============================] - 36s 3ms/step - loss: 0.1839 - accuracy: 0.9489 - val_loss: 0.1850 - val_accuracy: 0.9503\n",
      "Epoch 86/100\n",
      "12439/12439 [==============================] - 31s 2ms/step - loss: 0.1840 - accuracy: 0.9487 - val_loss: 0.1849 - val_accuracy: 0.9527\n",
      "Epoch 87/100\n",
      "12439/12439 [==============================] - 35s 3ms/step - loss: 0.1840 - accuracy: 0.9487 - val_loss: 0.1863 - val_accuracy: 0.9506\n",
      "Epoch 88/100\n",
      "12439/12439 [==============================] - 35s 3ms/step - loss: 0.1840 - accuracy: 0.9487 - val_loss: 0.1878 - val_accuracy: 0.9531\n",
      "Epoch 89/100\n",
      "12439/12439 [==============================] - 30s 2ms/step - loss: 0.1840 - accuracy: 0.9488 - val_loss: 0.1865 - val_accuracy: 0.9512\n",
      "Epoch 90/100\n",
      "12439/12439 [==============================] - 31s 2ms/step - loss: 0.1840 - accuracy: 0.9487 - val_loss: 0.1847 - val_accuracy: 0.9515\n",
      "Epoch 91/100\n",
      "12439/12439 [==============================] - 30s 2ms/step - loss: 0.1841 - accuracy: 0.9487 - val_loss: 0.1853 - val_accuracy: 0.9507\n",
      "Epoch 92/100\n",
      "12439/12439 [==============================] - 35s 3ms/step - loss: 0.1841 - accuracy: 0.9489 - val_loss: 0.1881 - val_accuracy: 0.9510\n",
      "Epoch 93/100\n",
      "12439/12439 [==============================] - 30s 2ms/step - loss: 0.1840 - accuracy: 0.9488 - val_loss: 0.1850 - val_accuracy: 0.9532\n",
      "Epoch 94/100\n",
      "12439/12439 [==============================] - 31s 2ms/step - loss: 0.1840 - accuracy: 0.9487 - val_loss: 0.1867 - val_accuracy: 0.9505\n",
      "Epoch 95/100\n",
      "12439/12439 [==============================] - 35s 3ms/step - loss: 0.1840 - accuracy: 0.9487 - val_loss: 0.1841 - val_accuracy: 0.9570\n",
      "Epoch 96/100\n",
      "12439/12439 [==============================] - 30s 2ms/step - loss: 0.1840 - accuracy: 0.9488 - val_loss: 0.1866 - val_accuracy: 0.9512\n",
      "Epoch 97/100\n",
      "12439/12439 [==============================] - 35s 3ms/step - loss: 0.1840 - accuracy: 0.9488 - val_loss: 0.1850 - val_accuracy: 0.9502\n",
      "Epoch 98/100\n",
      "12439/12439 [==============================] - 31s 2ms/step - loss: 0.1840 - accuracy: 0.9489 - val_loss: 0.1863 - val_accuracy: 0.9519\n",
      "Epoch 99/100\n",
      "12439/12439 [==============================] - 30s 2ms/step - loss: 0.1840 - accuracy: 0.9486 - val_loss: 0.1873 - val_accuracy: 0.9538\n",
      "Epoch 100/100\n",
      "12439/12439 [==============================] - 35s 3ms/step - loss: 0.1840 - accuracy: 0.9489 - val_loss: 0.1888 - val_accuracy: 0.9473\n"
     ]
    }
   ],
   "source": [
    "trained_model1=model1.fit(X_train_ros,Y_train_ros,epochs=100,batch_size=32,\n",
    "                          validation_data=(X_test_ros,Y_test_ros))"
   ]
  },
  {
   "cell_type": "code",
   "execution_count": 34,
   "metadata": {
    "colab": {
     "base_uri": "https://localhost:8080/",
     "height": 294
    },
    "id": "os6os5yHARKY",
    "outputId": "9479228b-f1a7-4451-891d-7c397acb4844"
   },
   "outputs": [
    {
     "data": {
      "image/png": "[encoded data removed]",
      "text/plain": [
       "<Figure size 432x288 with 1 Axes>"
      ]
     },
     "metadata": {
      "needs_background": "light"
     },
     "output_type": "display_data"
    }
   ],
   "source": [
    "#visualization training error and testing\n",
    "plt.plot(trained_model1.history[\"loss\"])  #training's loss meams error\n",
    "plt.plot(trained_model1.history[\"val_loss\"])  #testing's loss means error\n",
    "plt.title(\"Model Loss\")\n",
    "plt.ylabel('Loss')\n",
    "plt.xlabel('Epoch')\n",
    "plt.legend(['Train','Val means test'],loc='upper right')  #loc means loacation\n",
    "\n",
    "plt.show()"
   ]
  },
  {
   "cell_type": "code",
   "execution_count": 35,
   "metadata": {
    "colab": {
     "base_uri": "https://localhost:8080/",
     "height": 294
    },
    "id": "5-JzYe9lEWkY",
    "outputId": "ccf1198b-403c-4f7b-8f3d-e8c6793b5e7c"
   },
   "outputs": [
    {
     "data": {
      "image/png": "[encoded data removed]",
      "text/plain": [
       "<Figure size 432x288 with 1 Axes>"
      ]
     },
     "metadata": {
      "needs_background": "light"
     },
     "output_type": "display_data"
    }
   ],
   "source": [
    "#visualization training score and testing score\n",
    "plt.plot(trained_model1.history[\"accuracy\"])  #training's loss meams error\n",
    "plt.plot(trained_model1.history[\"val_accuracy\"])  #testing's loss means error\n",
    "plt.title(\"Model Accuracy\")\n",
    "plt.ylabel('Accuracy')\n",
    "plt.xlabel('Epoch')\n",
    "plt.legend(['Train','Val means test'],loc='upper right')  #loc means loacation\n",
    "\n",
    "plt.show()"
   ]
  },
  {
   "cell_type": "code",
   "execution_count": 36,
   "metadata": {
    "id": "rWTxKo7sEZpp"
   },
   "outputs": [],
   "source": [
    "#find predication\n",
    "Y_pred=model1.predict(X_test_ros)"
   ]
  },
  {
   "cell_type": "code",
   "execution_count": 37,
   "metadata": {
    "id": "Cx8SEUarEdAM"
   },
   "outputs": [],
   "source": [
    "Y_pred=np.where(Y_pred>0.5,1,0)"
   ]
  },
  {
   "cell_type": "code",
   "execution_count": 38,
   "metadata": {
    "colab": {
     "base_uri": "https://localhost:8080/"
    },
    "id": "DLCUZPVkEfh7",
    "outputId": "e0d0c6ce-25cb-4cd8-89d5-b54847feae0c"
   },
   "outputs": [
    {
     "name": "stdout",
     "output_type": "stream",
     "text": [
      "              precision    recall  f1-score   support\n",
      "\n",
      "           0       0.92      0.98      0.95     85295\n",
      "           1       0.97      0.92      0.95     85295\n",
      "\n",
      "    accuracy                           0.95    170590\n",
      "   macro avg       0.95      0.95      0.95    170590\n",
      "weighted avg       0.95      0.95      0.95    170590\n",
      "\n"
     ]
    }
   ],
   "source": [
    "from sklearn.metrics import classification_report\n",
    "\n",
    "print(classification_report(Y_test_ros,Y_pred))\n"
   ]
  },
  {
   "cell_type": "code",
   "execution_count": null,
   "metadata": {
    "id": "ir4xbntPNUyY"
   },
   "outputs": [],
   "source": []
  }
 ],
 "metadata": {
  "colab": {
   "collapsed_sections": [],
   "name": "Credit Card Fraud Detection DL.ipynb",
   "provenance": []
  },
  "kernelspec": {
   "display_name": "Python 3 (ipykernel)",
   "language": "python",
   "name": "python3"
  },
  "language_info": {
   "codemirror_mode": {
    "name": "ipython",
    "version": 3
   },
   "file_extension": ".py",
   "mimetype": "text/x-python",
   "name": "python",
   "nbconvert_exporter": "python",
   "pygments_lexer": "ipython3",
   "version": "3.9.7"
  }
 },
 "nbformat": 4,
 "nbformat_minor": 1
}
