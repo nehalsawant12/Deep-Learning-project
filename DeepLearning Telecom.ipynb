{
 "cells": [
  {
   "cell_type": "code",
   "execution_count": 1,
   "metadata": {
    "id": "gTTt9tRI7Jxb"
   },
   "outputs": [],
   "source": [
    "import numpy as np \n",
    "import pandas as pd\n",
    "import seaborn as sns\n",
    "import matplotlib.pyplot as plt"
   ]
  },
  {
   "cell_type": "code",
   "execution_count": 2,
   "metadata": {},
   "outputs": [],
   "source": [
    "#!pip install tensorflow"
   ]
  },
  {
   "cell_type": "code",
   "execution_count": 3,
   "metadata": {},
   "outputs": [],
   "source": [
    "import tensorflow as tf"
   ]
  },
  {
   "cell_type": "code",
   "execution_count": 4,
   "metadata": {
    "id": "1DH86sW6740g"
   },
   "outputs": [],
   "source": [
    "df=pd.read_csv(\"telecom_churn.csv\")"
   ]
  },
  {
   "cell_type": "code",
   "execution_count": 5,
   "metadata": {
    "colab": {
     "base_uri": "https://localhost:8080/",
     "height": 386
    },
    "id": "M_Weclw-742-",
    "outputId": "dfb38c74-9207-46c6-e176-53b640727194"
   },
   "outputs": [
    {
     "data": {
      "text/html": [
       "<div>\n",
       "<style scoped>\n",
       "    .dataframe tbody tr th:only-of-type {\n",
       "        vertical-align: middle;\n",
       "    }\n",
       "\n",
       "    .dataframe tbody tr th {\n",
       "        vertical-align: top;\n",
       "    }\n",
       "\n",
       "    .dataframe thead th {\n",
       "        text-align: right;\n",
       "    }\n",
       "</style>\n",
       "<table border=\"1\" class=\"dataframe\">\n",
       "  <thead>\n",
       "    <tr style=\"text-align: right;\">\n",
       "      <th></th>\n",
       "      <th>customerID</th>\n",
       "      <th>gender</th>\n",
       "      <th>SeniorCitizen</th>\n",
       "      <th>Partner</th>\n",
       "      <th>Dependents</th>\n",
       "      <th>tenure</th>\n",
       "      <th>PhoneService</th>\n",
       "      <th>MultipleLines</th>\n",
       "      <th>InternetService</th>\n",
       "      <th>OnlineSecurity</th>\n",
       "      <th>...</th>\n",
       "      <th>DeviceProtection</th>\n",
       "      <th>TechSupport</th>\n",
       "      <th>StreamingTV</th>\n",
       "      <th>StreamingMovies</th>\n",
       "      <th>Contract</th>\n",
       "      <th>PaperlessBilling</th>\n",
       "      <th>PaymentMethod</th>\n",
       "      <th>MonthlyCharges</th>\n",
       "      <th>TotalCharges</th>\n",
       "      <th>Churn</th>\n",
       "    </tr>\n",
       "  </thead>\n",
       "  <tbody>\n",
       "    <tr>\n",
       "      <th>0</th>\n",
       "      <td>7590-VHVEG</td>\n",
       "      <td>Female</td>\n",
       "      <td>0</td>\n",
       "      <td>Yes</td>\n",
       "      <td>No</td>\n",
       "      <td>1</td>\n",
       "      <td>No</td>\n",
       "      <td>No phone service</td>\n",
       "      <td>DSL</td>\n",
       "      <td>No</td>\n",
       "      <td>...</td>\n",
       "      <td>No</td>\n",
       "      <td>No</td>\n",
       "      <td>No</td>\n",
       "      <td>No</td>\n",
       "      <td>Month-to-month</td>\n",
       "      <td>Yes</td>\n",
       "      <td>Electronic check</td>\n",
       "      <td>29.85</td>\n",
       "      <td>29.85</td>\n",
       "      <td>No</td>\n",
       "    </tr>\n",
       "    <tr>\n",
       "      <th>1</th>\n",
       "      <td>5575-GNVDE</td>\n",
       "      <td>Male</td>\n",
       "      <td>0</td>\n",
       "      <td>No</td>\n",
       "      <td>No</td>\n",
       "      <td>34</td>\n",
       "      <td>Yes</td>\n",
       "      <td>No</td>\n",
       "      <td>DSL</td>\n",
       "      <td>Yes</td>\n",
       "      <td>...</td>\n",
       "      <td>Yes</td>\n",
       "      <td>No</td>\n",
       "      <td>No</td>\n",
       "      <td>No</td>\n",
       "      <td>One year</td>\n",
       "      <td>No</td>\n",
       "      <td>Mailed check</td>\n",
       "      <td>56.95</td>\n",
       "      <td>1889.5</td>\n",
       "      <td>No</td>\n",
       "    </tr>\n",
       "    <tr>\n",
       "      <th>2</th>\n",
       "      <td>3668-QPYBK</td>\n",
       "      <td>Male</td>\n",
       "      <td>0</td>\n",
       "      <td>No</td>\n",
       "      <td>No</td>\n",
       "      <td>2</td>\n",
       "      <td>Yes</td>\n",
       "      <td>No</td>\n",
       "      <td>DSL</td>\n",
       "      <td>Yes</td>\n",
       "      <td>...</td>\n",
       "      <td>No</td>\n",
       "      <td>No</td>\n",
       "      <td>No</td>\n",
       "      <td>No</td>\n",
       "      <td>Month-to-month</td>\n",
       "      <td>Yes</td>\n",
       "      <td>Mailed check</td>\n",
       "      <td>53.85</td>\n",
       "      <td>108.15</td>\n",
       "      <td>Yes</td>\n",
       "    </tr>\n",
       "    <tr>\n",
       "      <th>3</th>\n",
       "      <td>7795-CFOCW</td>\n",
       "      <td>Male</td>\n",
       "      <td>0</td>\n",
       "      <td>No</td>\n",
       "      <td>No</td>\n",
       "      <td>45</td>\n",
       "      <td>No</td>\n",
       "      <td>No phone service</td>\n",
       "      <td>DSL</td>\n",
       "      <td>Yes</td>\n",
       "      <td>...</td>\n",
       "      <td>Yes</td>\n",
       "      <td>Yes</td>\n",
       "      <td>No</td>\n",
       "      <td>No</td>\n",
       "      <td>One year</td>\n",
       "      <td>No</td>\n",
       "      <td>Bank transfer (automatic)</td>\n",
       "      <td>42.30</td>\n",
       "      <td>1840.75</td>\n",
       "      <td>No</td>\n",
       "    </tr>\n",
       "    <tr>\n",
       "      <th>4</th>\n",
       "      <td>9237-HQITU</td>\n",
       "      <td>Female</td>\n",
       "      <td>0</td>\n",
       "      <td>No</td>\n",
       "      <td>No</td>\n",
       "      <td>2</td>\n",
       "      <td>Yes</td>\n",
       "      <td>No</td>\n",
       "      <td>Fiber optic</td>\n",
       "      <td>No</td>\n",
       "      <td>...</td>\n",
       "      <td>No</td>\n",
       "      <td>No</td>\n",
       "      <td>No</td>\n",
       "      <td>No</td>\n",
       "      <td>Month-to-month</td>\n",
       "      <td>Yes</td>\n",
       "      <td>Electronic check</td>\n",
       "      <td>70.70</td>\n",
       "      <td>151.65</td>\n",
       "      <td>Yes</td>\n",
       "    </tr>\n",
       "  </tbody>\n",
       "</table>\n",
       "<p>5 rows × 21 columns</p>\n",
       "</div>"
      ],
      "text/plain": [
       "   customerID  gender  SeniorCitizen Partner Dependents  tenure PhoneService  \\\n",
       "0  7590-VHVEG  Female              0     Yes         No       1           No   \n",
       "1  5575-GNVDE    Male              0      No         No      34          Yes   \n",
       "2  3668-QPYBK    Male              0      No         No       2          Yes   \n",
       "3  7795-CFOCW    Male              0      No         No      45           No   \n",
       "4  9237-HQITU  Female              0      No         No       2          Yes   \n",
       "\n",
       "      MultipleLines InternetService OnlineSecurity  ... DeviceProtection  \\\n",
       "0  No phone service             DSL             No  ...               No   \n",
       "1                No             DSL            Yes  ...              Yes   \n",
       "2                No             DSL            Yes  ...               No   \n",
       "3  No phone service             DSL            Yes  ...              Yes   \n",
       "4                No     Fiber optic             No  ...               No   \n",
       "\n",
       "  TechSupport StreamingTV StreamingMovies        Contract PaperlessBilling  \\\n",
       "0          No          No              No  Month-to-month              Yes   \n",
       "1          No          No              No        One year               No   \n",
       "2          No          No              No  Month-to-month              Yes   \n",
       "3         Yes          No              No        One year               No   \n",
       "4          No          No              No  Month-to-month              Yes   \n",
       "\n",
       "               PaymentMethod MonthlyCharges  TotalCharges Churn  \n",
       "0           Electronic check          29.85         29.85    No  \n",
       "1               Mailed check          56.95        1889.5    No  \n",
       "2               Mailed check          53.85        108.15   Yes  \n",
       "3  Bank transfer (automatic)          42.30       1840.75    No  \n",
       "4           Electronic check          70.70        151.65   Yes  \n",
       "\n",
       "[5 rows x 21 columns]"
      ]
     },
     "execution_count": 5,
     "metadata": {},
     "output_type": "execute_result"
    }
   ],
   "source": [
    "df.head()"
   ]
  },
  {
   "cell_type": "code",
   "execution_count": 6,
   "metadata": {
    "colab": {
     "base_uri": "https://localhost:8080/"
    },
    "id": "rnxM1Cu4745p",
    "outputId": "c0cda81a-7101-487b-df1a-7cc51b8ead73"
   },
   "outputs": [
    {
     "data": {
      "text/plain": [
       "customerID          0\n",
       "gender              0\n",
       "SeniorCitizen       0\n",
       "Partner             0\n",
       "Dependents          0\n",
       "tenure              0\n",
       "PhoneService        0\n",
       "MultipleLines       0\n",
       "InternetService     0\n",
       "OnlineSecurity      0\n",
       "OnlineBackup        0\n",
       "DeviceProtection    0\n",
       "TechSupport         0\n",
       "StreamingTV         0\n",
       "StreamingMovies     0\n",
       "Contract            0\n",
       "PaperlessBilling    0\n",
       "PaymentMethod       0\n",
       "MonthlyCharges      0\n",
       "TotalCharges        0\n",
       "Churn               0\n",
       "dtype: int64"
      ]
     },
     "execution_count": 6,
     "metadata": {},
     "output_type": "execute_result"
    }
   ],
   "source": [
    "df.isnull().sum()"
   ]
  },
  {
   "cell_type": "code",
   "execution_count": 7,
   "metadata": {
    "colab": {
     "base_uri": "https://localhost:8080/"
    },
    "id": "3QrvwAMI748H",
    "outputId": "0f2aa421-588a-454e-8e9f-6df2b9fceda6"
   },
   "outputs": [
    {
     "data": {
      "text/plain": [
       "customerID           object\n",
       "gender               object\n",
       "SeniorCitizen         int64\n",
       "Partner              object\n",
       "Dependents           object\n",
       "tenure                int64\n",
       "PhoneService         object\n",
       "MultipleLines        object\n",
       "InternetService      object\n",
       "OnlineSecurity       object\n",
       "OnlineBackup         object\n",
       "DeviceProtection     object\n",
       "TechSupport          object\n",
       "StreamingTV          object\n",
       "StreamingMovies      object\n",
       "Contract             object\n",
       "PaperlessBilling     object\n",
       "PaymentMethod        object\n",
       "MonthlyCharges      float64\n",
       "TotalCharges         object\n",
       "Churn                object\n",
       "dtype: object"
      ]
     },
     "execution_count": 7,
     "metadata": {},
     "output_type": "execute_result"
    }
   ],
   "source": [
    "df.dtypes"
   ]
  },
  {
   "cell_type": "code",
   "execution_count": 8,
   "metadata": {
    "id": "4A6S9EaD9IBF"
   },
   "outputs": [],
   "source": [
    "df.drop(\"customerID\",axis=1,inplace=True)"
   ]
  },
  {
   "cell_type": "code",
   "execution_count": 9,
   "metadata": {
    "colab": {
     "base_uri": "https://localhost:8080/"
    },
    "id": "s9GREz5C9IDr",
    "outputId": "1b0e3bc3-01da-4722-f9f0-e343fb291576"
   },
   "outputs": [
    {
     "data": {
      "text/plain": [
       "TotalCharges\n",
       "           11\n",
       "20.2       11\n",
       "19.75       9\n",
       "20.05       8\n",
       "19.9        8\n",
       "           ..\n",
       "260.8       1\n",
       "260.7       1\n",
       "2599.95     1\n",
       "2598.95     1\n",
       "999.9       1\n",
       "Length: 6531, dtype: int64"
      ]
     },
     "execution_count": 9,
     "metadata": {},
     "output_type": "execute_result"
    }
   ],
   "source": [
    "df.value_counts(\"TotalCharges\")"
   ]
  },
  {
   "cell_type": "code",
   "execution_count": 10,
   "metadata": {
    "id": "sO5UfIL69IG-"
   },
   "outputs": [],
   "source": [
    "df[\"TotalCharges\"].replace(' ',np.nan,inplace=True)"
   ]
  },
  {
   "cell_type": "code",
   "execution_count": 11,
   "metadata": {
    "colab": {
     "base_uri": "https://localhost:8080/"
    },
    "id": "WGb8ljzv74_i",
    "outputId": "624bfa33-db16-4d54-94e4-db5afb9bc709"
   },
   "outputs": [
    {
     "data": {
      "text/plain": [
       "gender               0\n",
       "SeniorCitizen        0\n",
       "Partner              0\n",
       "Dependents           0\n",
       "tenure               0\n",
       "PhoneService         0\n",
       "MultipleLines        0\n",
       "InternetService      0\n",
       "OnlineSecurity       0\n",
       "OnlineBackup         0\n",
       "DeviceProtection     0\n",
       "TechSupport          0\n",
       "StreamingTV          0\n",
       "StreamingMovies      0\n",
       "Contract             0\n",
       "PaperlessBilling     0\n",
       "PaymentMethod        0\n",
       "MonthlyCharges       0\n",
       "TotalCharges        11\n",
       "Churn                0\n",
       "dtype: int64"
      ]
     },
     "execution_count": 11,
     "metadata": {},
     "output_type": "execute_result"
    }
   ],
   "source": [
    "df.isnull().sum()"
   ]
  },
  {
   "cell_type": "code",
   "execution_count": 12,
   "metadata": {
    "id": "AXP1XFQB93h8"
   },
   "outputs": [],
   "source": [
    "df[\"TotalCharges\"]=df[\"TotalCharges\"].astype(\"float\")"
   ]
  },
  {
   "cell_type": "code",
   "execution_count": 13,
   "metadata": {
    "id": "MdSy9mCH93ke"
   },
   "outputs": [],
   "source": [
    "m=df[\"TotalCharges\"].mean()\n",
    "df[\"TotalCharges\"].fillna(m,inplace=True)"
   ]
  },
  {
   "cell_type": "code",
   "execution_count": 14,
   "metadata": {
    "colab": {
     "base_uri": "https://localhost:8080/"
    },
    "id": "2I0Pr98i93nW",
    "outputId": "10e7660c-c84b-43c3-97c3-a8095af3cb44"
   },
   "outputs": [
    {
     "data": {
      "text/plain": [
       "gender              0\n",
       "SeniorCitizen       0\n",
       "Partner             0\n",
       "Dependents          0\n",
       "tenure              0\n",
       "PhoneService        0\n",
       "MultipleLines       0\n",
       "InternetService     0\n",
       "OnlineSecurity      0\n",
       "OnlineBackup        0\n",
       "DeviceProtection    0\n",
       "TechSupport         0\n",
       "StreamingTV         0\n",
       "StreamingMovies     0\n",
       "Contract            0\n",
       "PaperlessBilling    0\n",
       "PaymentMethod       0\n",
       "MonthlyCharges      0\n",
       "TotalCharges        0\n",
       "Churn               0\n",
       "dtype: int64"
      ]
     },
     "execution_count": 14,
     "metadata": {},
     "output_type": "execute_result"
    }
   ],
   "source": [
    "df.isnull().sum()"
   ]
  },
  {
   "cell_type": "code",
   "execution_count": 15,
   "metadata": {
    "id": "9z019VKx93p8"
   },
   "outputs": [],
   "source": [
    "#Check whather it is balanced or unbalanced\n",
    "#We wan to predict customer will left the service or nor not means predict"
   ]
  },
  {
   "cell_type": "code",
   "execution_count": 16,
   "metadata": {
    "colab": {
     "base_uri": "https://localhost:8080/"
    },
    "id": "WmimCfeW93tG",
    "outputId": "5eb6fcd4-7a22-4d04-9a9f-4d88bf71579d"
   },
   "outputs": [
    {
     "data": {
      "text/plain": [
       "No     5174\n",
       "Yes    1869\n",
       "Name: Churn, dtype: int64"
      ]
     },
     "execution_count": 16,
     "metadata": {},
     "output_type": "execute_result"
    }
   ],
   "source": [
    "df['Churn'].value_counts()"
   ]
  },
  {
   "cell_type": "code",
   "execution_count": 17,
   "metadata": {
    "colab": {
     "base_uri": "https://localhost:8080/"
    },
    "id": "vlGdr8mZ-4sD",
    "outputId": "b5fe9b8f-2278-49cb-9e70-386345db262a"
   },
   "outputs": [
    {
     "name": "stdout",
     "output_type": "stream",
     "text": [
      "Requirement already satisfied: imblearn in c:\\users\\dell\\anaconda3\\lib\\site-packages (0.0)\n",
      "Requirement already satisfied: imbalanced-learn in c:\\users\\dell\\anaconda3\\lib\\site-packages (from imblearn) (0.9.0)\n",
      "Requirement already satisfied: joblib>=0.11 in c:\\users\\dell\\anaconda3\\lib\\site-packages (from imbalanced-learn->imblearn) (1.1.0)\n",
      "Requirement already satisfied: scikit-learn>=1.0.1 in c:\\users\\dell\\anaconda3\\lib\\site-packages (from imbalanced-learn->imblearn) (1.0.2)\n",
      "Requirement already satisfied: numpy>=1.14.6 in c:\\users\\dell\\anaconda3\\lib\\site-packages (from imbalanced-learn->imblearn) (1.20.3)\n",
      "Requirement already satisfied: threadpoolctl>=2.0.0 in c:\\users\\dell\\anaconda3\\lib\\site-packages (from imbalanced-learn->imblearn) (2.2.0)\n",
      "Requirement already satisfied: scipy>=1.1.0 in c:\\users\\dell\\anaconda3\\lib\\site-packages (from imbalanced-learn->imblearn) (1.7.1)\n"
     ]
    }
   ],
   "source": [
    "!pip install imblearn"
   ]
  },
  {
   "cell_type": "code",
   "execution_count": 18,
   "metadata": {
    "id": "uxsVoYye-4uf"
   },
   "outputs": [],
   "source": [
    "from sklearn.preprocessing import LabelEncoder"
   ]
  },
  {
   "cell_type": "code",
   "execution_count": 19,
   "metadata": {
    "id": "go-xCPUu-4w8"
   },
   "outputs": [],
   "source": [
    "df_cat=df.select_dtypes(\"object\")\n",
    "df_num=df.select_dtypes([\"Float64\",\"int64\"])"
   ]
  },
  {
   "cell_type": "code",
   "execution_count": 20,
   "metadata": {
    "id": "aU1bQ7z0-4z3"
   },
   "outputs": [],
   "source": [
    "from sklearn.preprocessing import LabelEncoder"
   ]
  },
  {
   "cell_type": "code",
   "execution_count": 21,
   "metadata": {
    "colab": {
     "base_uri": "https://localhost:8080/"
    },
    "id": "mPQgPdmN-42T",
    "outputId": "25ae99b5-ecb2-4ddb-b02d-9148db472aa8"
   },
   "outputs": [
    {
     "name": "stderr",
     "output_type": "stream",
     "text": [
      "C:\\Users\\DELL\\AppData\\Local\\Temp/ipykernel_13836/4248682089.py:3: SettingWithCopyWarning: \n",
      "A value is trying to be set on a copy of a slice from a DataFrame.\n",
      "Try using .loc[row_indexer,col_indexer] = value instead\n",
      "\n",
      "See the caveats in the documentation: https://pandas.pydata.org/pandas-docs/stable/user_guide/indexing.html#returning-a-view-versus-a-copy\n",
      "  df_cat[col]=le.fit_transform(df_cat[col])\n"
     ]
    }
   ],
   "source": [
    "for col in df_cat:\n",
    "  le=LabelEncoder()\n",
    "  df_cat[col]=le.fit_transform(df_cat[col])"
   ]
  },
  {
   "cell_type": "code",
   "execution_count": 22,
   "metadata": {
    "colab": {
     "base_uri": "https://localhost:8080/"
    },
    "id": "dYY3zzXq-45V",
    "outputId": "25ab2e8b-71ef-4f3c-c368-d786726d32a5"
   },
   "outputs": [
    {
     "name": "stdout",
     "output_type": "stream",
     "text": [
      "<class 'pandas.core.frame.DataFrame'>\n",
      "RangeIndex: 7043 entries, 0 to 7042\n",
      "Data columns (total 20 columns):\n",
      " #   Column            Non-Null Count  Dtype  \n",
      "---  ------            --------------  -----  \n",
      " 0   gender            7043 non-null   object \n",
      " 1   SeniorCitizen     7043 non-null   int64  \n",
      " 2   Partner           7043 non-null   object \n",
      " 3   Dependents        7043 non-null   object \n",
      " 4   tenure            7043 non-null   int64  \n",
      " 5   PhoneService      7043 non-null   object \n",
      " 6   MultipleLines     7043 non-null   object \n",
      " 7   InternetService   7043 non-null   object \n",
      " 8   OnlineSecurity    7043 non-null   object \n",
      " 9   OnlineBackup      7043 non-null   object \n",
      " 10  DeviceProtection  7043 non-null   object \n",
      " 11  TechSupport       7043 non-null   object \n",
      " 12  StreamingTV       7043 non-null   object \n",
      " 13  StreamingMovies   7043 non-null   object \n",
      " 14  Contract          7043 non-null   object \n",
      " 15  PaperlessBilling  7043 non-null   object \n",
      " 16  PaymentMethod     7043 non-null   object \n",
      " 17  MonthlyCharges    7043 non-null   float64\n",
      " 18  TotalCharges      7043 non-null   float64\n",
      " 19  Churn             7043 non-null   object \n",
      "dtypes: float64(2), int64(2), object(16)\n",
      "memory usage: 1.1+ MB\n"
     ]
    }
   ],
   "source": [
    "df.info()"
   ]
  },
  {
   "cell_type": "code",
   "execution_count": 23,
   "metadata": {
    "colab": {
     "base_uri": "https://localhost:8080/",
     "height": 270
    },
    "id": "dU7FvpFY-47p",
    "outputId": "5e72f3c8-5fe1-4582-e36c-4ea2cec3c6c6"
   },
   "outputs": [
    {
     "data": {
      "text/html": [
       "<div>\n",
       "<style scoped>\n",
       "    .dataframe tbody tr th:only-of-type {\n",
       "        vertical-align: middle;\n",
       "    }\n",
       "\n",
       "    .dataframe tbody tr th {\n",
       "        vertical-align: top;\n",
       "    }\n",
       "\n",
       "    .dataframe thead th {\n",
       "        text-align: right;\n",
       "    }\n",
       "</style>\n",
       "<table border=\"1\" class=\"dataframe\">\n",
       "  <thead>\n",
       "    <tr style=\"text-align: right;\">\n",
       "      <th></th>\n",
       "      <th>SeniorCitizen</th>\n",
       "      <th>tenure</th>\n",
       "      <th>MonthlyCharges</th>\n",
       "      <th>TotalCharges</th>\n",
       "      <th>gender</th>\n",
       "      <th>Partner</th>\n",
       "      <th>Dependents</th>\n",
       "      <th>PhoneService</th>\n",
       "      <th>MultipleLines</th>\n",
       "      <th>InternetService</th>\n",
       "      <th>OnlineSecurity</th>\n",
       "      <th>OnlineBackup</th>\n",
       "      <th>DeviceProtection</th>\n",
       "      <th>TechSupport</th>\n",
       "      <th>StreamingTV</th>\n",
       "      <th>StreamingMovies</th>\n",
       "      <th>Contract</th>\n",
       "      <th>PaperlessBilling</th>\n",
       "      <th>PaymentMethod</th>\n",
       "      <th>Churn</th>\n",
       "    </tr>\n",
       "  </thead>\n",
       "  <tbody>\n",
       "    <tr>\n",
       "      <th>0</th>\n",
       "      <td>0</td>\n",
       "      <td>1</td>\n",
       "      <td>29.85</td>\n",
       "      <td>29.85</td>\n",
       "      <td>0</td>\n",
       "      <td>1</td>\n",
       "      <td>0</td>\n",
       "      <td>0</td>\n",
       "      <td>1</td>\n",
       "      <td>0</td>\n",
       "      <td>0</td>\n",
       "      <td>2</td>\n",
       "      <td>0</td>\n",
       "      <td>0</td>\n",
       "      <td>0</td>\n",
       "      <td>0</td>\n",
       "      <td>0</td>\n",
       "      <td>1</td>\n",
       "      <td>2</td>\n",
       "      <td>0</td>\n",
       "    </tr>\n",
       "    <tr>\n",
       "      <th>1</th>\n",
       "      <td>0</td>\n",
       "      <td>34</td>\n",
       "      <td>56.95</td>\n",
       "      <td>1889.50</td>\n",
       "      <td>1</td>\n",
       "      <td>0</td>\n",
       "      <td>0</td>\n",
       "      <td>1</td>\n",
       "      <td>0</td>\n",
       "      <td>0</td>\n",
       "      <td>2</td>\n",
       "      <td>0</td>\n",
       "      <td>2</td>\n",
       "      <td>0</td>\n",
       "      <td>0</td>\n",
       "      <td>0</td>\n",
       "      <td>1</td>\n",
       "      <td>0</td>\n",
       "      <td>3</td>\n",
       "      <td>0</td>\n",
       "    </tr>\n",
       "    <tr>\n",
       "      <th>2</th>\n",
       "      <td>0</td>\n",
       "      <td>2</td>\n",
       "      <td>53.85</td>\n",
       "      <td>108.15</td>\n",
       "      <td>1</td>\n",
       "      <td>0</td>\n",
       "      <td>0</td>\n",
       "      <td>1</td>\n",
       "      <td>0</td>\n",
       "      <td>0</td>\n",
       "      <td>2</td>\n",
       "      <td>2</td>\n",
       "      <td>0</td>\n",
       "      <td>0</td>\n",
       "      <td>0</td>\n",
       "      <td>0</td>\n",
       "      <td>0</td>\n",
       "      <td>1</td>\n",
       "      <td>3</td>\n",
       "      <td>1</td>\n",
       "    </tr>\n",
       "    <tr>\n",
       "      <th>3</th>\n",
       "      <td>0</td>\n",
       "      <td>45</td>\n",
       "      <td>42.30</td>\n",
       "      <td>1840.75</td>\n",
       "      <td>1</td>\n",
       "      <td>0</td>\n",
       "      <td>0</td>\n",
       "      <td>0</td>\n",
       "      <td>1</td>\n",
       "      <td>0</td>\n",
       "      <td>2</td>\n",
       "      <td>0</td>\n",
       "      <td>2</td>\n",
       "      <td>2</td>\n",
       "      <td>0</td>\n",
       "      <td>0</td>\n",
       "      <td>1</td>\n",
       "      <td>0</td>\n",
       "      <td>0</td>\n",
       "      <td>0</td>\n",
       "    </tr>\n",
       "    <tr>\n",
       "      <th>4</th>\n",
       "      <td>0</td>\n",
       "      <td>2</td>\n",
       "      <td>70.70</td>\n",
       "      <td>151.65</td>\n",
       "      <td>0</td>\n",
       "      <td>0</td>\n",
       "      <td>0</td>\n",
       "      <td>1</td>\n",
       "      <td>0</td>\n",
       "      <td>1</td>\n",
       "      <td>0</td>\n",
       "      <td>0</td>\n",
       "      <td>0</td>\n",
       "      <td>0</td>\n",
       "      <td>0</td>\n",
       "      <td>0</td>\n",
       "      <td>0</td>\n",
       "      <td>1</td>\n",
       "      <td>2</td>\n",
       "      <td>1</td>\n",
       "    </tr>\n",
       "  </tbody>\n",
       "</table>\n",
       "</div>"
      ],
      "text/plain": [
       "   SeniorCitizen  tenure  MonthlyCharges  TotalCharges  gender  Partner  \\\n",
       "0              0       1           29.85         29.85       0        1   \n",
       "1              0      34           56.95       1889.50       1        0   \n",
       "2              0       2           53.85        108.15       1        0   \n",
       "3              0      45           42.30       1840.75       1        0   \n",
       "4              0       2           70.70        151.65       0        0   \n",
       "\n",
       "   Dependents  PhoneService  MultipleLines  InternetService  OnlineSecurity  \\\n",
       "0           0             0              1                0               0   \n",
       "1           0             1              0                0               2   \n",
       "2           0             1              0                0               2   \n",
       "3           0             0              1                0               2   \n",
       "4           0             1              0                1               0   \n",
       "\n",
       "   OnlineBackup  DeviceProtection  TechSupport  StreamingTV  StreamingMovies  \\\n",
       "0             2                 0            0            0                0   \n",
       "1             0                 2            0            0                0   \n",
       "2             2                 0            0            0                0   \n",
       "3             0                 2            2            0                0   \n",
       "4             0                 0            0            0                0   \n",
       "\n",
       "   Contract  PaperlessBilling  PaymentMethod  Churn  \n",
       "0         0                 1              2      0  \n",
       "1         1                 0              3      0  \n",
       "2         0                 1              3      1  \n",
       "3         1                 0              0      0  \n",
       "4         0                 1              2      1  "
      ]
     },
     "execution_count": 23,
     "metadata": {},
     "output_type": "execute_result"
    }
   ],
   "source": [
    "df = pd.concat([df_num,df_cat],axis=1)\n",
    "df.head()"
   ]
  },
  {
   "cell_type": "code",
   "execution_count": 24,
   "metadata": {
    "id": "-VH4mHm9A-Eu"
   },
   "outputs": [],
   "source": [
    "from sklearn.preprocessing import StandardScaler"
   ]
  },
  {
   "cell_type": "code",
   "execution_count": 25,
   "metadata": {
    "id": "ZQnAXnR1A-HD"
   },
   "outputs": [],
   "source": [
    "X=df.drop(\"Churn\",axis=1) #input variable\n",
    "Y=df[\"Churn\"] #output means target"
   ]
  },
  {
   "cell_type": "code",
   "execution_count": 26,
   "metadata": {
    "id": "41OwW6RiBE8a"
   },
   "outputs": [],
   "source": [
    "from sklearn.model_selection import train_test_split\n",
    "X_train,X_test,Y_train,Y_test=train_test_split(X,Y,test_size=0.3,random_state=1)"
   ]
  },
  {
   "cell_type": "code",
   "execution_count": 27,
   "metadata": {
    "colab": {
     "base_uri": "https://localhost:8080/"
    },
    "id": "Q2iYMKgOBE-u",
    "outputId": "1e6e9858-fffd-4be5-cebe-82b9547bf59e"
   },
   "outputs": [
    {
     "data": {
      "text/plain": [
       "0    3589\n",
       "1    1341\n",
       "Name: Churn, dtype: int64"
      ]
     },
     "execution_count": 27,
     "metadata": {},
     "output_type": "execute_result"
    }
   ],
   "source": [
    "pd.Series(Y_train).value_counts()"
   ]
  },
  {
   "cell_type": "code",
   "execution_count": 28,
   "metadata": {
    "id": "ILZ4-UCCBFBK"
   },
   "outputs": [],
   "source": [
    "ss=StandardScaler()\n",
    "X_train=ss.fit_transform(X_train)\n",
    "X_test=ss.transform(X_test)"
   ]
  },
  {
   "cell_type": "code",
   "execution_count": 29,
   "metadata": {
    "id": "YwbW2NjbBMTa"
   },
   "outputs": [],
   "source": [
    "from imblearn.over_sampling import RandomOverSampler"
   ]
  },
  {
   "cell_type": "code",
   "execution_count": 30,
   "metadata": {
    "id": "62MW_NzJBjGR"
   },
   "outputs": [],
   "source": [
    "ros=RandomOverSampler(random_state=1)"
   ]
  },
  {
   "cell_type": "code",
   "execution_count": 31,
   "metadata": {
    "id": "9bd88VrWBMV9"
   },
   "outputs": [],
   "source": [
    "X_train1,Y_train1=ros.fit_resample(X_train,Y_train)"
   ]
  },
  {
   "cell_type": "code",
   "execution_count": 32,
   "metadata": {
    "id": "Iv9DCOiNBMYd"
   },
   "outputs": [],
   "source": [
    "X_test1,Y_test1=ros.fit_resample(X_test,Y_test)"
   ]
  },
  {
   "cell_type": "code",
   "execution_count": 33,
   "metadata": {
    "colab": {
     "base_uri": "https://localhost:8080/"
    },
    "id": "3qKjeZjvBMbI",
    "outputId": "ae60c92e-cf91-4a2e-9c44-a400ef9b75fe"
   },
   "outputs": [
    {
     "data": {
      "text/plain": [
       "0    3589\n",
       "1    3589\n",
       "Name: Churn, dtype: int64"
      ]
     },
     "execution_count": 33,
     "metadata": {},
     "output_type": "execute_result"
    }
   ],
   "source": [
    "pd.Series(Y_train1).value_counts()"
   ]
  },
  {
   "cell_type": "code",
   "execution_count": 34,
   "metadata": {
    "id": "xKmz7ONcEssA"
   },
   "outputs": [],
   "source": [
    "#Neural Network"
   ]
  },
  {
   "cell_type": "code",
   "execution_count": 35,
   "metadata": {
    "id": "EkB7o6AiEsue"
   },
   "outputs": [],
   "source": [
    "import tensorflow as tf\n",
    "model=tf.keras.Sequential([\n",
    "                            tf.keras.layers.Dense(units=64,activation='relu',\n",
    "                                                input_shape=(X.shape[1],)),\n",
    "                            tf.keras.layers.Dense(units=64,activation='relu'),\n",
    "                            tf.keras.layers.Dense(units=1,activation='sigmoid')\n",
    "])"
   ]
  },
  {
   "cell_type": "code",
   "execution_count": 36,
   "metadata": {
    "colab": {
     "base_uri": "https://localhost:8080/"
    },
    "id": "mc1mdOTFEsyC",
    "outputId": "a0c15949-5486-43e7-9aa9-3b8dab21e218"
   },
   "outputs": [
    {
     "name": "stdout",
     "output_type": "stream",
     "text": [
      "Model: \"sequential\"\n",
      "_________________________________________________________________\n",
      " Layer (type)                Output Shape              Param #   \n",
      "=================================================================\n",
      " dense (Dense)               (None, 64)                1280      \n",
      "                                                                 \n",
      " dense_1 (Dense)             (None, 64)                4160      \n",
      "                                                                 \n",
      " dense_2 (Dense)             (None, 1)                 65        \n",
      "                                                                 \n",
      "=================================================================\n",
      "Total params: 5,505\n",
      "Trainable params: 5,505\n",
      "Non-trainable params: 0\n",
      "_________________________________________________________________\n"
     ]
    }
   ],
   "source": [
    "model.summary()"
   ]
  },
  {
   "cell_type": "code",
   "execution_count": 37,
   "metadata": {
    "id": "9qX1B7EgFkLw"
   },
   "outputs": [],
   "source": [
    "model.compile(optimizer='adam',loss='binary_crossentropy',metrics=['accuracy'])"
   ]
  },
  {
   "cell_type": "code",
   "execution_count": null,
   "metadata": {},
   "outputs": [],
   "source": [
    "#Training Dataset: The sample of data used to fit the model.\n",
    "#The actual dataset that we use to train the model \n",
    "#(weights and biases in the case of a Neural Network). \n",
    "#The model sees and learns from this data.\n",
    "\n",
    "\n",
    "#Validation Dataset: The sample of data used to provide an unbiased evaluation of a model\n",
    "#fit on the training dataset while tuning model hyperparameters.\n",
    "#The validation set is used to evaluate a given model,\n",
    "#but this is for frequent evaluation. \n",
    "#We, as machine learning engineers, use this data to fine-tune the model hyperparameters.\n",
    "#Hence the model occasionally sees this data, but never does it “Learn” from this.\n",
    "#We use the validation set results, and update higher level hyperparameters.\n",
    "#So the validation set affects a model, but only indirectly. \n",
    "#The validation set is also known as the Dev set or the Development set. \n",
    "#This makes sense since this dataset helps during the “development” stage of the model.\n",
    "#hperparameter are kernel,cv,n_neighbours,k etc\n",
    "#One of the major reasons we need a validation set is to ensure that our model is not overfitting to the data\n",
    "#in the training set. \n",
    "#We'll discuss overfitting and underfitting in detail at a later time. \n",
    "#But the idea of overfitting is that our model becomes really good at being able to classify data in the training set,\n",
    "#but it's unable to generalize and make accurate classifications on data that it wasn't trained on.\n",
    "#During training, if we're also validating the model on the validation set and see that the results it's\n",
    "#giving for the validation data are just as good as the results it's giving for the training data,\n",
    "#then we can be more confident that our model is not overfitting.\n"
   ]
  },
  {
   "cell_type": "code",
   "execution_count": 38,
   "metadata": {
    "colab": {
     "base_uri": "https://localhost:8080/"
    },
    "id": "HmDockcIFkOl",
    "outputId": "d507fbe9-ee42-4001-b17e-35923218287f"
   },
   "outputs": [
    {
     "name": "stdout",
     "output_type": "stream",
     "text": [
      "Epoch 1/100\n",
      "225/225 [==============================] - 2s 4ms/step - loss: 0.5214 - accuracy: 0.7353 - val_loss: 0.4796 - val_accuracy: 0.7703\n",
      "Epoch 2/100\n",
      "225/225 [==============================] - 1s 2ms/step - loss: 0.4844 - accuracy: 0.7594 - val_loss: 0.4752 - val_accuracy: 0.7779\n",
      "Epoch 3/100\n",
      "225/225 [==============================] - 1s 2ms/step - loss: 0.4732 - accuracy: 0.7728 - val_loss: 0.4784 - val_accuracy: 0.7710\n",
      "Epoch 4/100\n",
      "225/225 [==============================] - 0s 2ms/step - loss: 0.4648 - accuracy: 0.7774 - val_loss: 0.4804 - val_accuracy: 0.7748\n",
      "Epoch 5/100\n",
      "225/225 [==============================] - 1s 3ms/step - loss: 0.4570 - accuracy: 0.7857 - val_loss: 0.4846 - val_accuracy: 0.7735\n",
      "Epoch 6/100\n",
      "225/225 [==============================] - 1s 2ms/step - loss: 0.4510 - accuracy: 0.7846 - val_loss: 0.4798 - val_accuracy: 0.7760\n",
      "Epoch 7/100\n",
      "225/225 [==============================] - 1s 2ms/step - loss: 0.4428 - accuracy: 0.7914 - val_loss: 0.4817 - val_accuracy: 0.7694\n",
      "Epoch 8/100\n",
      "225/225 [==============================] - 1s 2ms/step - loss: 0.4358 - accuracy: 0.7923 - val_loss: 0.4854 - val_accuracy: 0.7662\n",
      "Epoch 9/100\n",
      "225/225 [==============================] - 1s 2ms/step - loss: 0.4317 - accuracy: 0.7990 - val_loss: 0.4958 - val_accuracy: 0.7729\n",
      "Epoch 10/100\n",
      "225/225 [==============================] - 1s 2ms/step - loss: 0.4208 - accuracy: 0.8013 - val_loss: 0.4977 - val_accuracy: 0.7571\n",
      "Epoch 11/100\n",
      "225/225 [==============================] - 0s 2ms/step - loss: 0.4110 - accuracy: 0.8115 - val_loss: 0.4939 - val_accuracy: 0.7634\n",
      "Epoch 12/100\n",
      "225/225 [==============================] - 1s 2ms/step - loss: 0.4039 - accuracy: 0.8118 - val_loss: 0.5029 - val_accuracy: 0.7621\n",
      "Epoch 13/100\n",
      "225/225 [==============================] - 1s 2ms/step - loss: 0.3968 - accuracy: 0.8220 - val_loss: 0.5092 - val_accuracy: 0.7536\n",
      "Epoch 14/100\n",
      "225/225 [==============================] - 1s 2ms/step - loss: 0.3862 - accuracy: 0.8224 - val_loss: 0.5148 - val_accuracy: 0.7618\n",
      "Epoch 15/100\n",
      "225/225 [==============================] - 1s 2ms/step - loss: 0.3779 - accuracy: 0.8281 - val_loss: 0.5165 - val_accuracy: 0.7476\n",
      "Epoch 16/100\n",
      "225/225 [==============================] - 1s 2ms/step - loss: 0.3691 - accuracy: 0.8349 - val_loss: 0.5197 - val_accuracy: 0.7473\n",
      "Epoch 17/100\n",
      "225/225 [==============================] - 1s 3ms/step - loss: 0.3610 - accuracy: 0.8413 - val_loss: 0.5292 - val_accuracy: 0.7461\n",
      "Epoch 18/100\n",
      "225/225 [==============================] - 0s 2ms/step - loss: 0.3549 - accuracy: 0.8408 - val_loss: 0.5341 - val_accuracy: 0.7476\n",
      "Epoch 19/100\n",
      "225/225 [==============================] - 0s 2ms/step - loss: 0.3459 - accuracy: 0.8522 - val_loss: 0.5604 - val_accuracy: 0.7353\n",
      "Epoch 20/100\n",
      "225/225 [==============================] - 1s 2ms/step - loss: 0.3376 - accuracy: 0.8557 - val_loss: 0.5488 - val_accuracy: 0.7464\n",
      "Epoch 21/100\n",
      "225/225 [==============================] - 1s 2ms/step - loss: 0.3305 - accuracy: 0.8590 - val_loss: 0.5618 - val_accuracy: 0.7498\n",
      "Epoch 22/100\n",
      "225/225 [==============================] - 0s 2ms/step - loss: 0.3262 - accuracy: 0.8605 - val_loss: 0.5717 - val_accuracy: 0.7401\n",
      "Epoch 23/100\n",
      "225/225 [==============================] - 0s 2ms/step - loss: 0.3192 - accuracy: 0.8649 - val_loss: 0.5925 - val_accuracy: 0.7391\n",
      "Epoch 24/100\n",
      "225/225 [==============================] - 1s 2ms/step - loss: 0.3112 - accuracy: 0.8689 - val_loss: 0.5878 - val_accuracy: 0.7382\n",
      "Epoch 25/100\n",
      "225/225 [==============================] - 1s 2ms/step - loss: 0.3068 - accuracy: 0.8725 - val_loss: 0.5943 - val_accuracy: 0.7356\n",
      "Epoch 26/100\n",
      "225/225 [==============================] - 0s 2ms/step - loss: 0.3025 - accuracy: 0.8734 - val_loss: 0.6185 - val_accuracy: 0.7394\n",
      "Epoch 27/100\n",
      "225/225 [==============================] - 0s 2ms/step - loss: 0.2942 - accuracy: 0.8773 - val_loss: 0.6104 - val_accuracy: 0.7423\n",
      "Epoch 28/100\n",
      "225/225 [==============================] - 1s 2ms/step - loss: 0.2907 - accuracy: 0.8803 - val_loss: 0.6283 - val_accuracy: 0.7268\n",
      "Epoch 29/100\n",
      "225/225 [==============================] - 1s 2ms/step - loss: 0.2829 - accuracy: 0.8884 - val_loss: 0.6572 - val_accuracy: 0.7174\n",
      "Epoch 30/100\n",
      "225/225 [==============================] - 1s 2ms/step - loss: 0.2795 - accuracy: 0.8840 - val_loss: 0.6704 - val_accuracy: 0.7328\n",
      "Epoch 31/100\n",
      "225/225 [==============================] - 0s 2ms/step - loss: 0.2747 - accuracy: 0.8923 - val_loss: 0.6659 - val_accuracy: 0.7347\n",
      "Epoch 32/100\n",
      "225/225 [==============================] - 1s 2ms/step - loss: 0.2715 - accuracy: 0.8940 - val_loss: 0.7024 - val_accuracy: 0.7117\n",
      "Epoch 33/100\n",
      "225/225 [==============================] - 0s 2ms/step - loss: 0.2669 - accuracy: 0.8941 - val_loss: 0.6768 - val_accuracy: 0.7230\n",
      "Epoch 34/100\n",
      "225/225 [==============================] - 1s 2ms/step - loss: 0.2617 - accuracy: 0.8951 - val_loss: 0.6837 - val_accuracy: 0.7281\n",
      "Epoch 35/100\n",
      "225/225 [==============================] - 0s 2ms/step - loss: 0.2586 - accuracy: 0.8993 - val_loss: 0.6851 - val_accuracy: 0.7319\n",
      "Epoch 36/100\n",
      "225/225 [==============================] - 0s 2ms/step - loss: 0.2543 - accuracy: 0.9005 - val_loss: 0.7203 - val_accuracy: 0.7230\n",
      "Epoch 37/100\n",
      "225/225 [==============================] - 0s 2ms/step - loss: 0.2518 - accuracy: 0.8983 - val_loss: 0.7299 - val_accuracy: 0.7114\n",
      "Epoch 38/100\n",
      "225/225 [==============================] - 1s 2ms/step - loss: 0.2468 - accuracy: 0.9044 - val_loss: 0.7119 - val_accuracy: 0.7344\n",
      "Epoch 39/100\n",
      "225/225 [==============================] - 0s 2ms/step - loss: 0.2445 - accuracy: 0.9028 - val_loss: 0.7273 - val_accuracy: 0.7246\n",
      "Epoch 40/100\n",
      "225/225 [==============================] - 1s 2ms/step - loss: 0.2426 - accuracy: 0.9039 - val_loss: 0.7188 - val_accuracy: 0.7353\n",
      "Epoch 41/100\n",
      "225/225 [==============================] - 1s 3ms/step - loss: 0.2379 - accuracy: 0.9083 - val_loss: 0.7898 - val_accuracy: 0.7082\n",
      "Epoch 42/100\n",
      "225/225 [==============================] - 1s 3ms/step - loss: 0.2361 - accuracy: 0.9047 - val_loss: 0.7592 - val_accuracy: 0.7262\n",
      "Epoch 43/100\n",
      "225/225 [==============================] - 1s 2ms/step - loss: 0.2290 - accuracy: 0.9108 - val_loss: 0.7655 - val_accuracy: 0.7120\n",
      "Epoch 44/100\n",
      "225/225 [==============================] - 1s 3ms/step - loss: 0.2286 - accuracy: 0.9140 - val_loss: 0.7677 - val_accuracy: 0.7246\n",
      "Epoch 45/100\n",
      "225/225 [==============================] - 1s 2ms/step - loss: 0.2262 - accuracy: 0.9108 - val_loss: 0.7815 - val_accuracy: 0.7385\n",
      "Epoch 46/100\n",
      "225/225 [==============================] - 1s 3ms/step - loss: 0.2224 - accuracy: 0.9129 - val_loss: 0.8655 - val_accuracy: 0.6924\n",
      "Epoch 47/100\n",
      "225/225 [==============================] - 1s 2ms/step - loss: 0.2199 - accuracy: 0.9154 - val_loss: 0.8115 - val_accuracy: 0.7136\n",
      "Epoch 48/100\n",
      "225/225 [==============================] - 1s 2ms/step - loss: 0.2176 - accuracy: 0.9147 - val_loss: 0.8134 - val_accuracy: 0.7123\n",
      "Epoch 49/100\n",
      "225/225 [==============================] - 1s 2ms/step - loss: 0.2171 - accuracy: 0.9161 - val_loss: 0.8777 - val_accuracy: 0.7032\n",
      "Epoch 50/100\n",
      "225/225 [==============================] - 1s 2ms/step - loss: 0.2111 - accuracy: 0.9191 - val_loss: 0.9130 - val_accuracy: 0.6962\n",
      "Epoch 51/100\n",
      "225/225 [==============================] - 1s 3ms/step - loss: 0.2104 - accuracy: 0.9163 - val_loss: 0.8308 - val_accuracy: 0.7069\n",
      "Epoch 52/100\n",
      "225/225 [==============================] - 1s 3ms/step - loss: 0.2090 - accuracy: 0.9179 - val_loss: 0.8775 - val_accuracy: 0.6965\n",
      "Epoch 53/100\n",
      "225/225 [==============================] - 1s 2ms/step - loss: 0.2006 - accuracy: 0.9235 - val_loss: 0.8822 - val_accuracy: 0.6997\n",
      "Epoch 54/100\n",
      "225/225 [==============================] - 1s 3ms/step - loss: 0.2018 - accuracy: 0.9217 - val_loss: 0.8780 - val_accuracy: 0.7145\n",
      "Epoch 55/100\n",
      "225/225 [==============================] - 1s 2ms/step - loss: 0.1989 - accuracy: 0.9216 - val_loss: 0.9090 - val_accuracy: 0.7028\n",
      "Epoch 56/100\n",
      "225/225 [==============================] - 1s 3ms/step - loss: 0.1968 - accuracy: 0.9244 - val_loss: 0.8824 - val_accuracy: 0.7107\n",
      "Epoch 57/100\n",
      "225/225 [==============================] - 1s 3ms/step - loss: 0.1972 - accuracy: 0.9239 - val_loss: 0.8961 - val_accuracy: 0.7145\n",
      "Epoch 58/100\n",
      "225/225 [==============================] - 1s 3ms/step - loss: 0.1933 - accuracy: 0.9252 - val_loss: 0.9737 - val_accuracy: 0.6997\n",
      "Epoch 59/100\n",
      "225/225 [==============================] - 1s 3ms/step - loss: 0.1962 - accuracy: 0.9218 - val_loss: 0.9994 - val_accuracy: 0.6943\n",
      "Epoch 60/100\n",
      "225/225 [==============================] - 1s 3ms/step - loss: 0.1933 - accuracy: 0.9245 - val_loss: 0.9573 - val_accuracy: 0.7183\n",
      "Epoch 61/100\n",
      "225/225 [==============================] - 1s 3ms/step - loss: 0.1888 - accuracy: 0.9269 - val_loss: 0.9135 - val_accuracy: 0.7044\n",
      "Epoch 62/100\n",
      "225/225 [==============================] - 1s 3ms/step - loss: 0.1887 - accuracy: 0.9269 - val_loss: 0.9607 - val_accuracy: 0.7066\n",
      "Epoch 63/100\n",
      "225/225 [==============================] - 1s 3ms/step - loss: 0.1839 - accuracy: 0.9299 - val_loss: 0.9495 - val_accuracy: 0.7057\n",
      "Epoch 64/100\n",
      "225/225 [==============================] - 1s 3ms/step - loss: 0.1825 - accuracy: 0.9295 - val_loss: 0.9777 - val_accuracy: 0.7073\n",
      "Epoch 65/100\n",
      "225/225 [==============================] - 1s 3ms/step - loss: 0.1811 - accuracy: 0.9326 - val_loss: 1.0011 - val_accuracy: 0.6943\n",
      "Epoch 66/100\n",
      "225/225 [==============================] - 1s 3ms/step - loss: 0.1791 - accuracy: 0.9329 - val_loss: 1.0006 - val_accuracy: 0.7041\n",
      "Epoch 67/100\n",
      "225/225 [==============================] - 1s 3ms/step - loss: 0.1806 - accuracy: 0.9299 - val_loss: 0.9848 - val_accuracy: 0.6994\n",
      "Epoch 68/100\n",
      "225/225 [==============================] - 1s 3ms/step - loss: 0.1775 - accuracy: 0.9303 - val_loss: 0.9991 - val_accuracy: 0.6959\n",
      "Epoch 69/100\n",
      "225/225 [==============================] - 1s 3ms/step - loss: 0.1768 - accuracy: 0.9315 - val_loss: 1.0225 - val_accuracy: 0.7006\n",
      "Epoch 70/100\n",
      "225/225 [==============================] - 1s 3ms/step - loss: 0.1736 - accuracy: 0.9315 - val_loss: 1.0454 - val_accuracy: 0.7038\n",
      "Epoch 71/100\n",
      "225/225 [==============================] - 1s 3ms/step - loss: 0.1745 - accuracy: 0.9323 - val_loss: 1.0758 - val_accuracy: 0.7022\n",
      "Epoch 72/100\n",
      "225/225 [==============================] - 1s 3ms/step - loss: 0.1736 - accuracy: 0.9310 - val_loss: 1.0715 - val_accuracy: 0.6909\n",
      "Epoch 73/100\n",
      "225/225 [==============================] - 1s 3ms/step - loss: 0.1723 - accuracy: 0.9327 - val_loss: 1.0227 - val_accuracy: 0.7205\n",
      "Epoch 74/100\n",
      "225/225 [==============================] - 1s 2ms/step - loss: 0.1678 - accuracy: 0.9331 - val_loss: 1.0237 - val_accuracy: 0.7016\n",
      "Epoch 75/100\n",
      "225/225 [==============================] - 1s 2ms/step - loss: 0.1691 - accuracy: 0.9330 - val_loss: 1.0805 - val_accuracy: 0.7022\n",
      "Epoch 76/100\n",
      "225/225 [==============================] - 1s 2ms/step - loss: 0.1674 - accuracy: 0.9335 - val_loss: 1.1000 - val_accuracy: 0.7041\n",
      "Epoch 77/100\n",
      "225/225 [==============================] - 1s 2ms/step - loss: 0.1661 - accuracy: 0.9320 - val_loss: 1.1216 - val_accuracy: 0.6902\n",
      "Epoch 78/100\n",
      "225/225 [==============================] - 1s 2ms/step - loss: 0.1622 - accuracy: 0.9369 - val_loss: 1.0853 - val_accuracy: 0.7079\n",
      "Epoch 79/100\n",
      "225/225 [==============================] - 1s 2ms/step - loss: 0.1634 - accuracy: 0.9366 - val_loss: 1.1305 - val_accuracy: 0.6965\n",
      "Epoch 80/100\n",
      "225/225 [==============================] - 1s 2ms/step - loss: 0.1669 - accuracy: 0.9315 - val_loss: 1.1096 - val_accuracy: 0.7073\n",
      "Epoch 81/100\n",
      "225/225 [==============================] - 1s 2ms/step - loss: 0.1678 - accuracy: 0.9326 - val_loss: 1.0996 - val_accuracy: 0.7073\n",
      "Epoch 82/100\n",
      "225/225 [==============================] - 1s 3ms/step - loss: 0.1653 - accuracy: 0.9337 - val_loss: 1.1316 - val_accuracy: 0.7063\n",
      "Epoch 83/100\n",
      "225/225 [==============================] - 1s 3ms/step - loss: 0.1627 - accuracy: 0.9363 - val_loss: 1.1320 - val_accuracy: 0.7104\n",
      "Epoch 84/100\n",
      "225/225 [==============================] - 1s 3ms/step - loss: 0.1597 - accuracy: 0.9374 - val_loss: 1.1948 - val_accuracy: 0.6637\n",
      "Epoch 85/100\n",
      "225/225 [==============================] - 1s 3ms/step - loss: 0.1556 - accuracy: 0.9380 - val_loss: 1.1954 - val_accuracy: 0.6997\n",
      "Epoch 86/100\n",
      "225/225 [==============================] - 0s 2ms/step - loss: 0.1539 - accuracy: 0.9413 - val_loss: 1.1976 - val_accuracy: 0.7028\n",
      "Epoch 87/100\n",
      "225/225 [==============================] - 1s 2ms/step - loss: 0.1595 - accuracy: 0.9393 - val_loss: 1.1443 - val_accuracy: 0.7069\n",
      "Epoch 88/100\n",
      "225/225 [==============================] - 1s 2ms/step - loss: 0.1540 - accuracy: 0.9400 - val_loss: 1.1784 - val_accuracy: 0.7032\n",
      "Epoch 89/100\n",
      "225/225 [==============================] - 0s 2ms/step - loss: 0.1548 - accuracy: 0.9412 - val_loss: 1.1533 - val_accuracy: 0.7076\n",
      "Epoch 90/100\n",
      "225/225 [==============================] - 1s 2ms/step - loss: 0.1526 - accuracy: 0.9420 - val_loss: 1.1533 - val_accuracy: 0.7091\n",
      "Epoch 91/100\n",
      "225/225 [==============================] - 0s 2ms/step - loss: 0.1552 - accuracy: 0.9388 - val_loss: 1.2124 - val_accuracy: 0.6953\n",
      "Epoch 92/100\n",
      "225/225 [==============================] - 1s 2ms/step - loss: 0.1507 - accuracy: 0.9447 - val_loss: 1.2209 - val_accuracy: 0.6902\n",
      "Epoch 93/100\n",
      "225/225 [==============================] - 1s 2ms/step - loss: 0.1521 - accuracy: 0.9379 - val_loss: 1.2892 - val_accuracy: 0.6852\n",
      "Epoch 94/100\n",
      "225/225 [==============================] - 1s 2ms/step - loss: 0.1512 - accuracy: 0.9425 - val_loss: 1.1795 - val_accuracy: 0.7129\n",
      "Epoch 95/100\n",
      "225/225 [==============================] - 1s 2ms/step - loss: 0.1533 - accuracy: 0.9394 - val_loss: 1.2263 - val_accuracy: 0.6940\n",
      "Epoch 96/100\n",
      "225/225 [==============================] - 1s 2ms/step - loss: 0.1522 - accuracy: 0.9381 - val_loss: 1.2052 - val_accuracy: 0.7126\n",
      "Epoch 97/100\n",
      "225/225 [==============================] - 1s 2ms/step - loss: 0.1493 - accuracy: 0.9404 - val_loss: 1.2323 - val_accuracy: 0.7028\n",
      "Epoch 98/100\n",
      "225/225 [==============================] - 1s 3ms/step - loss: 0.1482 - accuracy: 0.9412 - val_loss: 1.2603 - val_accuracy: 0.7047\n",
      "Epoch 99/100\n",
      "225/225 [==============================] - 1s 3ms/step - loss: 0.1460 - accuracy: 0.9408 - val_loss: 1.2407 - val_accuracy: 0.6972\n",
      "Epoch 100/100\n",
      "225/225 [==============================] - 0s 2ms/step - loss: 0.1458 - accuracy: 0.9420 - val_loss: 1.2839 - val_accuracy: 0.6912\n"
     ]
    }
   ],
   "source": [
    "trained_model1=model.fit(X_train1,Y_train1,epochs=100,batch_size=32,validation_data=(X_test1,Y_test1))"
   ]
  },
  {
   "cell_type": "code",
   "execution_count": 39,
   "metadata": {
    "colab": {
     "base_uri": "https://localhost:8080/",
     "height": 294
    },
    "id": "5C-CAi3LHDmj",
    "outputId": "3c0976ca-a6f7-4e40-c64d-bc65e94b233c"
   },
   "outputs": [
    {
     "data": {
      "image/png": "[encoded data removed]",
      "text/plain": [
       "<Figure size 432x288 with 1 Axes>"
      ]
     },
     "metadata": {
      "needs_background": "light"
     },
     "output_type": "display_data"
    }
   ],
   "source": [
    "import matplotlib.pyplot as plt\n",
    "plt.plot(trained_model1.history['loss'])\n",
    "plt.plot(trained_model1.history['val_loss'])\n",
    "plt.title('model loss')\n",
    "plt.ylabel('Loss')\n",
    "plt.xlabel('Epoch')\n",
    "plt.legend(['Train','val means test'], loc='upper right')   #loc means location\n",
    "plt.show()"
   ]
  },
  {
   "cell_type": "code",
   "execution_count": 40,
   "metadata": {
    "colab": {
     "base_uri": "https://localhost:8080/",
     "height": 281
    },
    "id": "GqRUJps8HInk",
    "outputId": "76fed951-ffd0-47d9-a024-b11e856921bc"
   },
   "outputs": [
    {
     "data": {
      "image/png": "[encoded data removed]",
      "text/plain": [
       "<Figure size 432x288 with 1 Axes>"
      ]
     },
     "metadata": {
      "needs_background": "light"
     },
     "output_type": "display_data"
    }
   ],
   "source": [
    "plt.plot(trained_model1.history['accuracy'])\n",
    "plt.title(\"accuracy\")\n",
    "plt.show()"
   ]
  },
  {
   "cell_type": "code",
   "execution_count": 41,
   "metadata": {
    "colab": {
     "base_uri": "https://localhost:8080/"
    },
    "id": "DgaDLpT3HIqd",
    "outputId": "65e26304-f252-4f56-d18a-e88baec1e65f"
   },
   "outputs": [
    {
     "name": "stdout",
     "output_type": "stream",
     "text": [
      "225/225 [==============================] - 0s 1ms/step - loss: 0.1400 - accuracy: 0.9466\n"
     ]
    },
    {
     "data": {
      "text/plain": [
       "[0.13995470106601715, 0.9466425180435181]"
      ]
     },
     "execution_count": 41,
     "metadata": {},
     "output_type": "execute_result"
    }
   ],
   "source": [
    "#check loss and score \n",
    "model.evaluate(X_train1,Y_train1)"
   ]
  },
  {
   "cell_type": "code",
   "execution_count": 42,
   "metadata": {
    "colab": {
     "base_uri": "https://localhost:8080/"
    },
    "id": "Zoc7QTIqHIt0",
    "outputId": "1da8e043-b126-4929-f758-213ae2c95d24"
   },
   "outputs": [
    {
     "name": "stdout",
     "output_type": "stream",
     "text": [
      "100/100 [==============================] - 0s 2ms/step - loss: 1.2839 - accuracy: 0.6912\n"
     ]
    },
    {
     "data": {
      "text/plain": [
       "[1.2839103937149048, 0.6911671757698059]"
      ]
     },
     "execution_count": 42,
     "metadata": {},
     "output_type": "execute_result"
    }
   ],
   "source": [
    "model.evaluate(X_test1,Y_test1)"
   ]
  },
  {
   "cell_type": "code",
   "execution_count": 43,
   "metadata": {
    "colab": {
     "base_uri": "https://localhost:8080/",
     "height": 294
    },
    "id": "z2N_SCKIHIxU",
    "outputId": "159de1e2-8ea4-4073-87b3-101dc95f9e67"
   },
   "outputs": [
    {
     "data": {
      "image/png": "[encoded data removed]",
      "text/plain": [
       "<Figure size 432x288 with 1 Axes>"
      ]
     },
     "metadata": {
      "needs_background": "light"
     },
     "output_type": "display_data"
    }
   ],
   "source": [
    "import matplotlib.pyplot as plt\n",
    "plt.plot(trained_model1.history['accuracy'])\n",
    "plt.plot(trained_model1.history['val_accuracy'])\n",
    "plt.title('model Accuracy')\n",
    "plt.ylabel('Accuracy')\n",
    "plt.xlabel('Epoch')\n",
    "plt.legend(['Train','val means test'], loc='upper right')   #loc means location\n",
    "plt.show()"
   ]
  },
  {
   "cell_type": "code",
   "execution_count": 44,
   "metadata": {
    "id": "ENlNzvj7FkSI"
   },
   "outputs": [],
   "source": [
    "#Here model is overfit we apply regularization at training time \n",
    "#Means add external error at trainng time \n",
    "#Here traning score > testing score (model is overfit)\n",
    "from keras import regularizers\n",
    "import tensorflow as tf\n",
    "model2=tf.keras.Sequential([\n",
    "                            tf.keras.layers.Dense(units=64,activation='relu',\n",
    "                                                  kernel_regularizer=regularizers.l2(0.01),\n",
    "                                                  input_shape=(X.shape[1],)),\n",
    "                            tf.keras.layers.Dense(units=64,activation='relu',\n",
    "                            kernel_regularizer=regularizers.l2(0.01),),\n",
    "                                                   \n",
    "                            tf.keras.layers.Dense(units=1,activation='sigmoid',\n",
    "                            kernel_regularizer=regularizers.l2(0.01),)\n",
    "])"
   ]
  },
  {
   "cell_type": "code",
   "execution_count": 45,
   "metadata": {
    "id": "APe3alOdFkUj"
   },
   "outputs": [],
   "source": [
    "model2.compile(optimizer='adam',loss='binary_crossentropy',metrics=['accuracy'])"
   ]
  },
  {
   "cell_type": "code",
   "execution_count": 46,
   "metadata": {
    "colab": {
     "base_uri": "https://localhost:8080/"
    },
    "id": "cHUkvueCEs2N",
    "outputId": "c1332bea-9cd9-456f-d3e0-7bb3ccc33f71"
   },
   "outputs": [
    {
     "name": "stdout",
     "output_type": "stream",
     "text": [
      "Epoch 1/100\n",
      "225/225 [==============================] - 2s 3ms/step - loss: 1.0032 - accuracy: 0.7414 - val_loss: 0.6838 - val_accuracy: 0.7707\n",
      "Epoch 2/100\n",
      "225/225 [==============================] - 1s 2ms/step - loss: 0.6300 - accuracy: 0.7604 - val_loss: 0.5654 - val_accuracy: 0.7735\n",
      "Epoch 3/100\n",
      "225/225 [==============================] - 1s 2ms/step - loss: 0.5677 - accuracy: 0.7615 - val_loss: 0.5388 - val_accuracy: 0.7801\n",
      "Epoch 4/100\n",
      "225/225 [==============================] - 1s 2ms/step - loss: 0.5500 - accuracy: 0.7630 - val_loss: 0.5340 - val_accuracy: 0.7719\n",
      "Epoch 5/100\n",
      "225/225 [==============================] - 1s 3ms/step - loss: 0.5441 - accuracy: 0.7612 - val_loss: 0.5268 - val_accuracy: 0.7735\n",
      "Epoch 6/100\n",
      "225/225 [==============================] - 0s 2ms/step - loss: 0.5412 - accuracy: 0.7625 - val_loss: 0.5307 - val_accuracy: 0.7719\n",
      "Epoch 7/100\n",
      "225/225 [==============================] - 1s 2ms/step - loss: 0.5408 - accuracy: 0.7626 - val_loss: 0.5187 - val_accuracy: 0.7751\n",
      "Epoch 8/100\n",
      "225/225 [==============================] - 0s 2ms/step - loss: 0.5385 - accuracy: 0.7609 - val_loss: 0.5183 - val_accuracy: 0.7773\n",
      "Epoch 9/100\n",
      "225/225 [==============================] - 1s 3ms/step - loss: 0.5383 - accuracy: 0.7605 - val_loss: 0.5167 - val_accuracy: 0.7773\n",
      "Epoch 10/100\n",
      "225/225 [==============================] - 1s 2ms/step - loss: 0.5377 - accuracy: 0.7619 - val_loss: 0.5160 - val_accuracy: 0.7779\n",
      "Epoch 11/100\n",
      "225/225 [==============================] - 0s 2ms/step - loss: 0.5369 - accuracy: 0.7636 - val_loss: 0.5156 - val_accuracy: 0.7748\n",
      "Epoch 12/100\n",
      "225/225 [==============================] - 0s 2ms/step - loss: 0.5359 - accuracy: 0.7609 - val_loss: 0.5153 - val_accuracy: 0.7748\n",
      "Epoch 13/100\n",
      "225/225 [==============================] - 1s 2ms/step - loss: 0.5368 - accuracy: 0.7633 - val_loss: 0.5134 - val_accuracy: 0.7789\n",
      "Epoch 14/100\n",
      "225/225 [==============================] - 1s 2ms/step - loss: 0.5354 - accuracy: 0.7609 - val_loss: 0.5208 - val_accuracy: 0.7726\n",
      "Epoch 15/100\n",
      "225/225 [==============================] - 1s 2ms/step - loss: 0.5351 - accuracy: 0.7640 - val_loss: 0.5133 - val_accuracy: 0.7748\n",
      "Epoch 16/100\n",
      "225/225 [==============================] - 0s 2ms/step - loss: 0.5360 - accuracy: 0.7622 - val_loss: 0.5155 - val_accuracy: 0.7782\n",
      "Epoch 17/100\n",
      "225/225 [==============================] - 1s 2ms/step - loss: 0.5347 - accuracy: 0.7618 - val_loss: 0.5154 - val_accuracy: 0.7773\n",
      "Epoch 18/100\n",
      "225/225 [==============================] - 0s 2ms/step - loss: 0.5358 - accuracy: 0.7590 - val_loss: 0.5162 - val_accuracy: 0.7744\n",
      "Epoch 19/100\n",
      "225/225 [==============================] - 1s 3ms/step - loss: 0.5348 - accuracy: 0.7657 - val_loss: 0.5159 - val_accuracy: 0.7770\n",
      "Epoch 20/100\n",
      "225/225 [==============================] - 1s 2ms/step - loss: 0.5343 - accuracy: 0.7641 - val_loss: 0.5116 - val_accuracy: 0.7760\n",
      "Epoch 21/100\n",
      "225/225 [==============================] - 1s 2ms/step - loss: 0.5347 - accuracy: 0.7636 - val_loss: 0.5168 - val_accuracy: 0.7738\n",
      "Epoch 22/100\n",
      "225/225 [==============================] - 0s 2ms/step - loss: 0.5343 - accuracy: 0.7616 - val_loss: 0.5139 - val_accuracy: 0.7789\n",
      "Epoch 23/100\n",
      "225/225 [==============================] - 0s 2ms/step - loss: 0.5346 - accuracy: 0.7646 - val_loss: 0.5154 - val_accuracy: 0.7716\n",
      "Epoch 24/100\n",
      "225/225 [==============================] - 1s 2ms/step - loss: 0.5343 - accuracy: 0.7616 - val_loss: 0.5126 - val_accuracy: 0.7795\n",
      "Epoch 25/100\n",
      "225/225 [==============================] - 1s 2ms/step - loss: 0.5344 - accuracy: 0.7660 - val_loss: 0.5140 - val_accuracy: 0.7760\n",
      "Epoch 26/100\n",
      "225/225 [==============================] - 1s 2ms/step - loss: 0.5326 - accuracy: 0.7627 - val_loss: 0.5143 - val_accuracy: 0.7779\n",
      "Epoch 27/100\n",
      "225/225 [==============================] - 1s 2ms/step - loss: 0.5338 - accuracy: 0.7633 - val_loss: 0.5109 - val_accuracy: 0.7776\n",
      "Epoch 28/100\n",
      "225/225 [==============================] - 0s 2ms/step - loss: 0.5334 - accuracy: 0.7621 - val_loss: 0.5148 - val_accuracy: 0.7767\n",
      "Epoch 29/100\n",
      "225/225 [==============================] - 0s 2ms/step - loss: 0.5332 - accuracy: 0.7623 - val_loss: 0.5126 - val_accuracy: 0.7741\n",
      "Epoch 30/100\n",
      "225/225 [==============================] - 1s 2ms/step - loss: 0.5326 - accuracy: 0.7630 - val_loss: 0.5118 - val_accuracy: 0.7729\n",
      "Epoch 31/100\n",
      "225/225 [==============================] - 0s 2ms/step - loss: 0.5336 - accuracy: 0.7632 - val_loss: 0.5116 - val_accuracy: 0.7744\n",
      "Epoch 32/100\n",
      "225/225 [==============================] - 1s 2ms/step - loss: 0.5327 - accuracy: 0.7647 - val_loss: 0.5127 - val_accuracy: 0.7782\n",
      "Epoch 33/100\n",
      "225/225 [==============================] - 0s 2ms/step - loss: 0.5332 - accuracy: 0.7637 - val_loss: 0.5134 - val_accuracy: 0.7732\n",
      "Epoch 34/100\n",
      "225/225 [==============================] - 0s 2ms/step - loss: 0.5343 - accuracy: 0.7604 - val_loss: 0.5107 - val_accuracy: 0.7808\n",
      "Epoch 35/100\n",
      "225/225 [==============================] - 0s 2ms/step - loss: 0.5331 - accuracy: 0.7641 - val_loss: 0.5111 - val_accuracy: 0.7773\n",
      "Epoch 36/100\n",
      "225/225 [==============================] - 0s 2ms/step - loss: 0.5332 - accuracy: 0.7591 - val_loss: 0.5106 - val_accuracy: 0.7722\n",
      "Epoch 37/100\n",
      "225/225 [==============================] - 0s 2ms/step - loss: 0.5333 - accuracy: 0.7594 - val_loss: 0.5099 - val_accuracy: 0.7767\n",
      "Epoch 38/100\n",
      "225/225 [==============================] - 1s 2ms/step - loss: 0.5334 - accuracy: 0.7618 - val_loss: 0.5110 - val_accuracy: 0.7763\n",
      "Epoch 39/100\n",
      "225/225 [==============================] - 0s 2ms/step - loss: 0.5326 - accuracy: 0.7630 - val_loss: 0.5110 - val_accuracy: 0.7757\n",
      "Epoch 40/100\n",
      "225/225 [==============================] - 0s 2ms/step - loss: 0.5324 - accuracy: 0.7602 - val_loss: 0.5125 - val_accuracy: 0.7776\n",
      "Epoch 41/100\n",
      "225/225 [==============================] - 1s 2ms/step - loss: 0.5325 - accuracy: 0.7633 - val_loss: 0.5136 - val_accuracy: 0.7760\n",
      "Epoch 42/100\n",
      "225/225 [==============================] - 1s 2ms/step - loss: 0.5322 - accuracy: 0.7600 - val_loss: 0.5093 - val_accuracy: 0.7779\n",
      "Epoch 43/100\n",
      "225/225 [==============================] - 0s 2ms/step - loss: 0.5326 - accuracy: 0.7641 - val_loss: 0.5104 - val_accuracy: 0.7729\n",
      "Epoch 44/100\n",
      "225/225 [==============================] - 1s 2ms/step - loss: 0.5320 - accuracy: 0.7626 - val_loss: 0.5139 - val_accuracy: 0.7817\n",
      "Epoch 45/100\n",
      "225/225 [==============================] - 1s 3ms/step - loss: 0.5323 - accuracy: 0.7616 - val_loss: 0.5095 - val_accuracy: 0.7770\n",
      "Epoch 46/100\n",
      "225/225 [==============================] - 1s 3ms/step - loss: 0.5314 - accuracy: 0.7644 - val_loss: 0.5141 - val_accuracy: 0.7763\n",
      "Epoch 47/100\n",
      "225/225 [==============================] - 1s 2ms/step - loss: 0.5323 - accuracy: 0.7622 - val_loss: 0.5122 - val_accuracy: 0.7735\n",
      "Epoch 48/100\n",
      "225/225 [==============================] - 1s 3ms/step - loss: 0.5320 - accuracy: 0.7609 - val_loss: 0.5118 - val_accuracy: 0.7757\n",
      "Epoch 49/100\n",
      "225/225 [==============================] - 1s 2ms/step - loss: 0.5315 - accuracy: 0.7614 - val_loss: 0.5237 - val_accuracy: 0.7710\n",
      "Epoch 50/100\n",
      "225/225 [==============================] - 1s 3ms/step - loss: 0.5332 - accuracy: 0.7576 - val_loss: 0.5125 - val_accuracy: 0.7763\n",
      "Epoch 51/100\n",
      "225/225 [==============================] - 1s 3ms/step - loss: 0.5325 - accuracy: 0.7609 - val_loss: 0.5104 - val_accuracy: 0.7779\n",
      "Epoch 52/100\n",
      "225/225 [==============================] - 1s 3ms/step - loss: 0.5324 - accuracy: 0.7618 - val_loss: 0.5136 - val_accuracy: 0.7700\n",
      "Epoch 53/100\n",
      "225/225 [==============================] - 1s 2ms/step - loss: 0.5318 - accuracy: 0.7623 - val_loss: 0.5110 - val_accuracy: 0.7729\n",
      "Epoch 54/100\n",
      "225/225 [==============================] - 1s 2ms/step - loss: 0.5319 - accuracy: 0.7594 - val_loss: 0.5089 - val_accuracy: 0.7754\n",
      "Epoch 55/100\n",
      "225/225 [==============================] - 1s 2ms/step - loss: 0.5317 - accuracy: 0.7627 - val_loss: 0.5084 - val_accuracy: 0.7776\n",
      "Epoch 56/100\n",
      "225/225 [==============================] - 1s 2ms/step - loss: 0.5326 - accuracy: 0.7616 - val_loss: 0.5106 - val_accuracy: 0.7751\n",
      "Epoch 57/100\n",
      "225/225 [==============================] - 1s 3ms/step - loss: 0.5324 - accuracy: 0.7609 - val_loss: 0.5115 - val_accuracy: 0.7719\n",
      "Epoch 58/100\n",
      "225/225 [==============================] - 1s 3ms/step - loss: 0.5321 - accuracy: 0.7600 - val_loss: 0.5107 - val_accuracy: 0.7773\n",
      "Epoch 59/100\n",
      "225/225 [==============================] - 1s 3ms/step - loss: 0.5324 - accuracy: 0.7609 - val_loss: 0.5103 - val_accuracy: 0.7760\n",
      "Epoch 60/100\n",
      "225/225 [==============================] - 1s 2ms/step - loss: 0.5320 - accuracy: 0.7601 - val_loss: 0.5113 - val_accuracy: 0.7782\n",
      "Epoch 61/100\n",
      "225/225 [==============================] - 1s 2ms/step - loss: 0.5321 - accuracy: 0.7627 - val_loss: 0.5097 - val_accuracy: 0.7763\n",
      "Epoch 62/100\n",
      "225/225 [==============================] - 1s 3ms/step - loss: 0.5323 - accuracy: 0.7632 - val_loss: 0.5091 - val_accuracy: 0.7811\n",
      "Epoch 63/100\n",
      "225/225 [==============================] - 1s 3ms/step - loss: 0.5315 - accuracy: 0.7602 - val_loss: 0.5123 - val_accuracy: 0.7732\n",
      "Epoch 64/100\n",
      "225/225 [==============================] - 1s 3ms/step - loss: 0.5321 - accuracy: 0.7629 - val_loss: 0.5128 - val_accuracy: 0.7757\n",
      "Epoch 65/100\n",
      "225/225 [==============================] - 1s 3ms/step - loss: 0.5319 - accuracy: 0.7632 - val_loss: 0.5085 - val_accuracy: 0.7811\n",
      "Epoch 66/100\n",
      "225/225 [==============================] - 1s 3ms/step - loss: 0.5305 - accuracy: 0.7621 - val_loss: 0.5081 - val_accuracy: 0.7779\n",
      "Epoch 67/100\n",
      "225/225 [==============================] - 1s 3ms/step - loss: 0.5315 - accuracy: 0.7666 - val_loss: 0.5078 - val_accuracy: 0.7741\n",
      "Epoch 68/100\n",
      "225/225 [==============================] - 1s 3ms/step - loss: 0.5309 - accuracy: 0.7615 - val_loss: 0.5097 - val_accuracy: 0.7785\n",
      "Epoch 69/100\n",
      "225/225 [==============================] - 1s 3ms/step - loss: 0.5313 - accuracy: 0.7629 - val_loss: 0.5084 - val_accuracy: 0.7770\n",
      "Epoch 70/100\n",
      "225/225 [==============================] - 1s 3ms/step - loss: 0.5319 - accuracy: 0.7632 - val_loss: 0.5098 - val_accuracy: 0.7763\n",
      "Epoch 71/100\n",
      "225/225 [==============================] - 1s 3ms/step - loss: 0.5312 - accuracy: 0.7608 - val_loss: 0.5107 - val_accuracy: 0.7760\n",
      "Epoch 72/100\n",
      "225/225 [==============================] - 1s 3ms/step - loss: 0.5316 - accuracy: 0.7611 - val_loss: 0.5117 - val_accuracy: 0.7795\n",
      "Epoch 73/100\n",
      "225/225 [==============================] - 1s 3ms/step - loss: 0.5325 - accuracy: 0.7612 - val_loss: 0.5100 - val_accuracy: 0.7789\n",
      "Epoch 74/100\n",
      "225/225 [==============================] - 1s 3ms/step - loss: 0.5314 - accuracy: 0.7601 - val_loss: 0.5099 - val_accuracy: 0.7763\n",
      "Epoch 75/100\n",
      "225/225 [==============================] - 1s 3ms/step - loss: 0.5317 - accuracy: 0.7590 - val_loss: 0.5134 - val_accuracy: 0.7757\n",
      "Epoch 76/100\n",
      "225/225 [==============================] - 1s 3ms/step - loss: 0.5312 - accuracy: 0.7632 - val_loss: 0.5098 - val_accuracy: 0.7751\n",
      "Epoch 77/100\n",
      "225/225 [==============================] - 1s 2ms/step - loss: 0.5319 - accuracy: 0.7598 - val_loss: 0.5124 - val_accuracy: 0.7726\n",
      "Epoch 78/100\n",
      "225/225 [==============================] - 1s 3ms/step - loss: 0.5308 - accuracy: 0.7586 - val_loss: 0.5084 - val_accuracy: 0.7795\n",
      "Epoch 79/100\n",
      "225/225 [==============================] - 1s 3ms/step - loss: 0.5317 - accuracy: 0.7590 - val_loss: 0.5120 - val_accuracy: 0.7773\n",
      "Epoch 80/100\n",
      "225/225 [==============================] - 1s 3ms/step - loss: 0.5312 - accuracy: 0.7601 - val_loss: 0.5109 - val_accuracy: 0.7782\n",
      "Epoch 81/100\n",
      "225/225 [==============================] - 1s 2ms/step - loss: 0.5309 - accuracy: 0.7598 - val_loss: 0.5103 - val_accuracy: 0.7741\n",
      "Epoch 82/100\n",
      "225/225 [==============================] - 1s 3ms/step - loss: 0.5313 - accuracy: 0.7618 - val_loss: 0.5077 - val_accuracy: 0.7782\n",
      "Epoch 83/100\n",
      "225/225 [==============================] - 1s 3ms/step - loss: 0.5306 - accuracy: 0.7612 - val_loss: 0.5110 - val_accuracy: 0.7738\n",
      "Epoch 84/100\n",
      "225/225 [==============================] - 1s 3ms/step - loss: 0.5307 - accuracy: 0.7647 - val_loss: 0.5156 - val_accuracy: 0.7751\n",
      "Epoch 85/100\n",
      "225/225 [==============================] - 1s 3ms/step - loss: 0.5313 - accuracy: 0.7607 - val_loss: 0.5155 - val_accuracy: 0.7694\n",
      "Epoch 86/100\n",
      "225/225 [==============================] - 1s 3ms/step - loss: 0.5314 - accuracy: 0.7626 - val_loss: 0.5081 - val_accuracy: 0.7773\n",
      "Epoch 87/100\n",
      "225/225 [==============================] - 1s 3ms/step - loss: 0.5310 - accuracy: 0.7594 - val_loss: 0.5090 - val_accuracy: 0.7792\n",
      "Epoch 88/100\n",
      "225/225 [==============================] - 1s 3ms/step - loss: 0.5308 - accuracy: 0.7614 - val_loss: 0.5071 - val_accuracy: 0.7767\n",
      "Epoch 89/100\n",
      "225/225 [==============================] - 1s 3ms/step - loss: 0.5310 - accuracy: 0.7611 - val_loss: 0.5103 - val_accuracy: 0.7779\n",
      "Epoch 90/100\n",
      "225/225 [==============================] - 1s 2ms/step - loss: 0.5309 - accuracy: 0.7605 - val_loss: 0.5080 - val_accuracy: 0.7748\n",
      "Epoch 91/100\n",
      "225/225 [==============================] - 1s 2ms/step - loss: 0.5315 - accuracy: 0.7611 - val_loss: 0.5083 - val_accuracy: 0.7741\n",
      "Epoch 92/100\n",
      "225/225 [==============================] - 0s 2ms/step - loss: 0.5311 - accuracy: 0.7590 - val_loss: 0.5082 - val_accuracy: 0.7741\n",
      "Epoch 93/100\n",
      "225/225 [==============================] - 1s 2ms/step - loss: 0.5318 - accuracy: 0.7594 - val_loss: 0.5068 - val_accuracy: 0.7748\n",
      "Epoch 94/100\n",
      "225/225 [==============================] - 0s 2ms/step - loss: 0.5315 - accuracy: 0.7602 - val_loss: 0.5088 - val_accuracy: 0.7792\n",
      "Epoch 95/100\n",
      "225/225 [==============================] - 1s 3ms/step - loss: 0.5309 - accuracy: 0.7608 - val_loss: 0.5074 - val_accuracy: 0.7789\n",
      "Epoch 96/100\n",
      "225/225 [==============================] - 1s 2ms/step - loss: 0.5305 - accuracy: 0.7607 - val_loss: 0.5086 - val_accuracy: 0.7776\n",
      "Epoch 97/100\n",
      "225/225 [==============================] - 1s 2ms/step - loss: 0.5314 - accuracy: 0.7621 - val_loss: 0.5093 - val_accuracy: 0.7763\n",
      "Epoch 98/100\n",
      "225/225 [==============================] - 0s 2ms/step - loss: 0.5308 - accuracy: 0.7591 - val_loss: 0.5100 - val_accuracy: 0.7760\n",
      "Epoch 99/100\n",
      "225/225 [==============================] - 0s 2ms/step - loss: 0.5306 - accuracy: 0.7621 - val_loss: 0.5133 - val_accuracy: 0.7713\n",
      "Epoch 100/100\n",
      "225/225 [==============================] - 1s 2ms/step - loss: 0.5307 - accuracy: 0.7604 - val_loss: 0.5062 - val_accuracy: 0.7767\n"
     ]
    }
   ],
   "source": [
    "trained_model2=model2.fit(X_train1,Y_train1,epochs=100,batch_size=32,validation_data=(X_test1,Y_test1))"
   ]
  },
  {
   "cell_type": "code",
   "execution_count": 47,
   "metadata": {
    "colab": {
     "base_uri": "https://localhost:8080/",
     "height": 294
    },
    "id": "Z4upAN_wEs4l",
    "outputId": "b251dc7e-9d0e-414c-bf0a-24f174360106"
   },
   "outputs": [
    {
     "data": {
      "image/png": "[encoded data removed]",
      "text/plain": [
       "<Figure size 432x288 with 1 Axes>"
      ]
     },
     "metadata": {
      "needs_background": "light"
     },
     "output_type": "display_data"
    }
   ],
   "source": [
    "import matplotlib.pyplot as plt\n",
    "plt.plot(trained_model2.history['loss'])\n",
    "plt.plot(trained_model2.history['val_loss'])\n",
    "plt.title('model loss')\n",
    "plt.ylabel('Loss')\n",
    "plt.xlabel('Epoch')\n",
    "plt.legend(['Train','val means test'], loc='upper right')   #loc means location\n",
    "plt.show()"
   ]
  },
  {
   "cell_type": "code",
   "execution_count": 48,
   "metadata": {
    "colab": {
     "base_uri": "https://localhost:8080/",
     "height": 294
    },
    "id": "hUeH2C_ZEs7C",
    "outputId": "cf00e8e6-afa2-4aaf-96aa-c0866da04573"
   },
   "outputs": [
    {
     "data": {
      "image/png": "[encoded data removed]",
      "text/plain": [
       "<Figure size 432x288 with 1 Axes>"
      ]
     },
     "metadata": {
      "needs_background": "light"
     },
     "output_type": "display_data"
    }
   ],
   "source": [
    "import matplotlib.pyplot as plt\n",
    "plt.plot(trained_model2.history['accuracy'])\n",
    "plt.plot(trained_model2.history['val_accuracy'])\n",
    "plt.title('model Accuracy')\n",
    "plt.ylabel('Accuracy')\n",
    "plt.xlabel('Epoch')\n",
    "plt.legend(['Train','val means test'], loc='upper right')   #loc means location\n",
    "plt.show()"
   ]
  },
  {
   "cell_type": "code",
   "execution_count": 49,
   "metadata": {
    "colab": {
     "base_uri": "https://localhost:8080/"
    },
    "id": "Sb3ArdvuEs-b",
    "outputId": "b2c7b7d8-450b-45cd-ec5a-83df69754773"
   },
   "outputs": [
    {
     "name": "stdout",
     "output_type": "stream",
     "text": [
      "225/225 [==============================] - 0s 1ms/step - loss: 0.5282 - accuracy: 0.7629\n"
     ]
    },
    {
     "data": {
      "text/plain": [
       "[0.5282337665557861, 0.7628865838050842]"
      ]
     },
     "execution_count": 49,
     "metadata": {},
     "output_type": "execute_result"
    }
   ],
   "source": [
    "#check loss and score \n",
    "model2.evaluate(X_train1,Y_train1)"
   ]
  },
  {
   "cell_type": "code",
   "execution_count": 50,
   "metadata": {
    "colab": {
     "base_uri": "https://localhost:8080/"
    },
    "id": "7ZQ6UDExBMeV",
    "outputId": "e68d637b-a043-40af-d600-f4e909a89bf0"
   },
   "outputs": [
    {
     "name": "stdout",
     "output_type": "stream",
     "text": [
      "100/100 [==============================] - 0s 1ms/step - loss: 0.5062 - accuracy: 0.7767\n"
     ]
    },
    {
     "data": {
      "text/plain": [
       "[0.506155252456665, 0.7766561508178711]"
      ]
     },
     "execution_count": 50,
     "metadata": {},
     "output_type": "execute_result"
    }
   ],
   "source": [
    "model2.evaluate(X_test1,Y_test1)"
   ]
  },
  {
   "cell_type": "code",
   "execution_count": 51,
   "metadata": {
    "id": "DmS9NvUKBFEf"
   },
   "outputs": [],
   "source": [
    "from sklearn.metrics import classification_report \n",
    "from sklearn.metrics import confusion_matrix"
   ]
  },
  {
   "cell_type": "code",
   "execution_count": 52,
   "metadata": {
    "id": "AcJ_A6bnxAsV"
   },
   "outputs": [],
   "source": [
    "Y_pred=model2.predict(X_test1)\n",
    "Y_pred=np.where(Y_pred>=0.5,1,0)"
   ]
  },
  {
   "cell_type": "code",
   "execution_count": 53,
   "metadata": {
    "colab": {
     "base_uri": "https://localhost:8080/"
    },
    "id": "tDvTrA-IA-Kh",
    "outputId": "68418dd5-303a-47eb-e757-cc5df9297db6"
   },
   "outputs": [
    {
     "name": "stdout",
     "output_type": "stream",
     "text": [
      "              precision    recall  f1-score   support\n",
      "\n",
      "           0       0.79      0.75      0.77      1585\n",
      "           1       0.76      0.80      0.78      1585\n",
      "\n",
      "    accuracy                           0.78      3170\n",
      "   macro avg       0.78      0.78      0.78      3170\n",
      "weighted avg       0.78      0.78      0.78      3170\n",
      "\n"
     ]
    }
   ],
   "source": [
    "print(classification_report(Y_test1,Y_pred))"
   ]
  },
  {
   "cell_type": "code",
   "execution_count": 54,
   "metadata": {
    "colab": {
     "base_uri": "https://localhost:8080/"
    },
    "id": "w0Vxse_ryLhj",
    "outputId": "1283d72d-7dd2-447e-8559-7b99d2d45e89"
   },
   "outputs": [
    {
     "name": "stdout",
     "output_type": "stream",
     "text": [
      "[[1196  389]\n",
      " [ 319 1266]]\n"
     ]
    }
   ],
   "source": [
    "print(confusion_matrix(Y_test1,Y_pred))"
   ]
  }
 ],
 "metadata": {
  "colab": {
   "collapsed_sections": [],
   "name": "Telecom.ipynb",
   "provenance": []
  },
  "kernelspec": {
   "display_name": "Python 3 (ipykernel)",
   "language": "python",
   "name": "python3"
  },
  "language_info": {
   "codemirror_mode": {
    "name": "ipython",
    "version": 3
   },
   "file_extension": ".py",
   "mimetype": "text/x-python",
   "name": "python",
   "nbconvert_exporter": "python",
   "pygments_lexer": "ipython3",
   "version": "3.9.7"
  }
 },
 "nbformat": 4,
 "nbformat_minor": 1
}
